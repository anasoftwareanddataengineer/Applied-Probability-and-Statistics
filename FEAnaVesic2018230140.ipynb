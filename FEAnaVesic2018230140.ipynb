{
  "nbformat": 4,
  "nbformat_minor": 0,
  "metadata": {
    "colab": {
      "name": "FEAnaVesic2018230140.ipynb",
      "provenance": [],
      "collapsed_sections": []
    },
    "kernelspec": {
      "name": "python3",
      "display_name": "Python 3"
    }
  },
  "cells": [
    {
      "cell_type": "code",
      "metadata": {
        "id": "cAcX0FcsLjk3",
        "colab": {
          "base_uri": "https://localhost:8080/"
        },
        "outputId": "38f1f4de-7ad2-406a-a411-e03d9e53406e"
      },
      "source": [
        "import pandas as pd\r\n",
        "import numpy as np\r\n",
        "import matplotlib.pyplot as plt\r\n",
        "%matplotlib  inline\r\n",
        "from scipy import stats\r\n",
        "import statsmodels.api as sm\r\n",
        "import statsmodels.formula.api as smf\r\n",
        "from sklearn import datasets\r\n",
        "boston = datasets.load_boston()"
      ],
      "execution_count": null,
      "outputs": [
        {
          "output_type": "stream",
          "text": [
            "/usr/local/lib/python3.6/dist-packages/statsmodels/tools/_testing.py:19: FutureWarning: pandas.util.testing is deprecated. Use the functions in the public API at pandas.testing instead.\n",
            "  import pandas.util.testing as tm\n"
          ],
          "name": "stderr"
        }
      ]
    },
    {
      "cell_type": "code",
      "metadata": {
        "colab": {
          "base_uri": "https://localhost:8080/",
          "height": 204
        },
        "id": "jPI9cj1NLo6H",
        "outputId": "d7d1d252-f2df-4b9b-ad80-885170ae2778"
      },
      "source": [
        "pd.DataFrame(boston.data).head()"
      ],
      "execution_count": null,
      "outputs": [
        {
          "output_type": "execute_result",
          "data": {
            "text/html": [
              "<div>\n",
              "<style scoped>\n",
              "    .dataframe tbody tr th:only-of-type {\n",
              "        vertical-align: middle;\n",
              "    }\n",
              "\n",
              "    .dataframe tbody tr th {\n",
              "        vertical-align: top;\n",
              "    }\n",
              "\n",
              "    .dataframe thead th {\n",
              "        text-align: right;\n",
              "    }\n",
              "</style>\n",
              "<table border=\"1\" class=\"dataframe\">\n",
              "  <thead>\n",
              "    <tr style=\"text-align: right;\">\n",
              "      <th></th>\n",
              "      <th>0</th>\n",
              "      <th>1</th>\n",
              "      <th>2</th>\n",
              "      <th>3</th>\n",
              "      <th>4</th>\n",
              "      <th>5</th>\n",
              "      <th>6</th>\n",
              "      <th>7</th>\n",
              "      <th>8</th>\n",
              "      <th>9</th>\n",
              "      <th>10</th>\n",
              "      <th>11</th>\n",
              "      <th>12</th>\n",
              "    </tr>\n",
              "  </thead>\n",
              "  <tbody>\n",
              "    <tr>\n",
              "      <th>0</th>\n",
              "      <td>0.00632</td>\n",
              "      <td>18.0</td>\n",
              "      <td>2.31</td>\n",
              "      <td>0.0</td>\n",
              "      <td>0.538</td>\n",
              "      <td>6.575</td>\n",
              "      <td>65.2</td>\n",
              "      <td>4.0900</td>\n",
              "      <td>1.0</td>\n",
              "      <td>296.0</td>\n",
              "      <td>15.3</td>\n",
              "      <td>396.90</td>\n",
              "      <td>4.98</td>\n",
              "    </tr>\n",
              "    <tr>\n",
              "      <th>1</th>\n",
              "      <td>0.02731</td>\n",
              "      <td>0.0</td>\n",
              "      <td>7.07</td>\n",
              "      <td>0.0</td>\n",
              "      <td>0.469</td>\n",
              "      <td>6.421</td>\n",
              "      <td>78.9</td>\n",
              "      <td>4.9671</td>\n",
              "      <td>2.0</td>\n",
              "      <td>242.0</td>\n",
              "      <td>17.8</td>\n",
              "      <td>396.90</td>\n",
              "      <td>9.14</td>\n",
              "    </tr>\n",
              "    <tr>\n",
              "      <th>2</th>\n",
              "      <td>0.02729</td>\n",
              "      <td>0.0</td>\n",
              "      <td>7.07</td>\n",
              "      <td>0.0</td>\n",
              "      <td>0.469</td>\n",
              "      <td>7.185</td>\n",
              "      <td>61.1</td>\n",
              "      <td>4.9671</td>\n",
              "      <td>2.0</td>\n",
              "      <td>242.0</td>\n",
              "      <td>17.8</td>\n",
              "      <td>392.83</td>\n",
              "      <td>4.03</td>\n",
              "    </tr>\n",
              "    <tr>\n",
              "      <th>3</th>\n",
              "      <td>0.03237</td>\n",
              "      <td>0.0</td>\n",
              "      <td>2.18</td>\n",
              "      <td>0.0</td>\n",
              "      <td>0.458</td>\n",
              "      <td>6.998</td>\n",
              "      <td>45.8</td>\n",
              "      <td>6.0622</td>\n",
              "      <td>3.0</td>\n",
              "      <td>222.0</td>\n",
              "      <td>18.7</td>\n",
              "      <td>394.63</td>\n",
              "      <td>2.94</td>\n",
              "    </tr>\n",
              "    <tr>\n",
              "      <th>4</th>\n",
              "      <td>0.06905</td>\n",
              "      <td>0.0</td>\n",
              "      <td>2.18</td>\n",
              "      <td>0.0</td>\n",
              "      <td>0.458</td>\n",
              "      <td>7.147</td>\n",
              "      <td>54.2</td>\n",
              "      <td>6.0622</td>\n",
              "      <td>3.0</td>\n",
              "      <td>222.0</td>\n",
              "      <td>18.7</td>\n",
              "      <td>396.90</td>\n",
              "      <td>5.33</td>\n",
              "    </tr>\n",
              "  </tbody>\n",
              "</table>\n",
              "</div>"
            ],
            "text/plain": [
              "        0     1     2    3      4   ...   8      9     10      11    12\n",
              "0  0.00632  18.0  2.31  0.0  0.538  ...  1.0  296.0  15.3  396.90  4.98\n",
              "1  0.02731   0.0  7.07  0.0  0.469  ...  2.0  242.0  17.8  396.90  9.14\n",
              "2  0.02729   0.0  7.07  0.0  0.469  ...  2.0  242.0  17.8  392.83  4.03\n",
              "3  0.03237   0.0  2.18  0.0  0.458  ...  3.0  222.0  18.7  394.63  2.94\n",
              "4  0.06905   0.0  2.18  0.0  0.458  ...  3.0  222.0  18.7  396.90  5.33\n",
              "\n",
              "[5 rows x 13 columns]"
            ]
          },
          "metadata": {
            "tags": []
          },
          "execution_count": 4
        }
      ]
    },
    {
      "cell_type": "code",
      "metadata": {
        "colab": {
          "base_uri": "https://localhost:8080/",
          "height": 204
        },
        "id": "ThtdLAAiMXgk",
        "outputId": "9a1983b2-b276-4df0-ac7e-23cb05eea1ac"
      },
      "source": [
        "pd.DataFrame(boston.target).head()"
      ],
      "execution_count": null,
      "outputs": [
        {
          "output_type": "execute_result",
          "data": {
            "text/html": [
              "<div>\n",
              "<style scoped>\n",
              "    .dataframe tbody tr th:only-of-type {\n",
              "        vertical-align: middle;\n",
              "    }\n",
              "\n",
              "    .dataframe tbody tr th {\n",
              "        vertical-align: top;\n",
              "    }\n",
              "\n",
              "    .dataframe thead th {\n",
              "        text-align: right;\n",
              "    }\n",
              "</style>\n",
              "<table border=\"1\" class=\"dataframe\">\n",
              "  <thead>\n",
              "    <tr style=\"text-align: right;\">\n",
              "      <th></th>\n",
              "      <th>0</th>\n",
              "    </tr>\n",
              "  </thead>\n",
              "  <tbody>\n",
              "    <tr>\n",
              "      <th>0</th>\n",
              "      <td>24.0</td>\n",
              "    </tr>\n",
              "    <tr>\n",
              "      <th>1</th>\n",
              "      <td>21.6</td>\n",
              "    </tr>\n",
              "    <tr>\n",
              "      <th>2</th>\n",
              "      <td>34.7</td>\n",
              "    </tr>\n",
              "    <tr>\n",
              "      <th>3</th>\n",
              "      <td>33.4</td>\n",
              "    </tr>\n",
              "    <tr>\n",
              "      <th>4</th>\n",
              "      <td>36.2</td>\n",
              "    </tr>\n",
              "  </tbody>\n",
              "</table>\n",
              "</div>"
            ],
            "text/plain": [
              "      0\n",
              "0  24.0\n",
              "1  21.6\n",
              "2  34.7\n",
              "3  33.4\n",
              "4  36.2"
            ]
          },
          "metadata": {
            "tags": []
          },
          "execution_count": 5
        }
      ]
    },
    {
      "cell_type": "code",
      "metadata": {
        "colab": {
          "base_uri": "https://localhost:8080/"
        },
        "id": "Veq1CEKFNRVl",
        "outputId": "0a863cd7-23de-496c-b8d4-5e8aa1b0816a"
      },
      "source": [
        "print(boston.feature_names)"
      ],
      "execution_count": null,
      "outputs": [
        {
          "output_type": "stream",
          "text": [
            "['CRIM' 'ZN' 'INDUS' 'CHAS' 'NOX' 'RM' 'AGE' 'DIS' 'RAD' 'TAX' 'PTRATIO'\n",
            " 'B' 'LSTAT']\n"
          ],
          "name": "stdout"
        }
      ]
    },
    {
      "cell_type": "code",
      "metadata": {
        "id": "CC_dTMEjNaNk"
      },
      "source": [
        "boston.columns = boston.feature_names"
      ],
      "execution_count": null,
      "outputs": []
    },
    {
      "cell_type": "code",
      "metadata": {
        "colab": {
          "base_uri": "https://localhost:8080/"
        },
        "id": "U07wDlnGPn5N",
        "outputId": "931d638f-e2be-46e7-c7f4-f7ffeb894f51"
      },
      "source": [
        "data = datasets.load_boston()\r\n",
        "print(data)\r\n",
        "\r\n",
        "df = pd.DataFrame(data=data['data'], columns = data['feature_names'])\r\n",
        "df.to_csv('boston.txt', sep = ',', index = False)"
      ],
      "execution_count": null,
      "outputs": [
        {
          "output_type": "stream",
          "text": [
            "{'data': array([[6.3200e-03, 1.8000e+01, 2.3100e+00, ..., 1.5300e+01, 3.9690e+02,\n",
            "        4.9800e+00],\n",
            "       [2.7310e-02, 0.0000e+00, 7.0700e+00, ..., 1.7800e+01, 3.9690e+02,\n",
            "        9.1400e+00],\n",
            "       [2.7290e-02, 0.0000e+00, 7.0700e+00, ..., 1.7800e+01, 3.9283e+02,\n",
            "        4.0300e+00],\n",
            "       ...,\n",
            "       [6.0760e-02, 0.0000e+00, 1.1930e+01, ..., 2.1000e+01, 3.9690e+02,\n",
            "        5.6400e+00],\n",
            "       [1.0959e-01, 0.0000e+00, 1.1930e+01, ..., 2.1000e+01, 3.9345e+02,\n",
            "        6.4800e+00],\n",
            "       [4.7410e-02, 0.0000e+00, 1.1930e+01, ..., 2.1000e+01, 3.9690e+02,\n",
            "        7.8800e+00]]), 'target': array([24. , 21.6, 34.7, 33.4, 36.2, 28.7, 22.9, 27.1, 16.5, 18.9, 15. ,\n",
            "       18.9, 21.7, 20.4, 18.2, 19.9, 23.1, 17.5, 20.2, 18.2, 13.6, 19.6,\n",
            "       15.2, 14.5, 15.6, 13.9, 16.6, 14.8, 18.4, 21. , 12.7, 14.5, 13.2,\n",
            "       13.1, 13.5, 18.9, 20. , 21. , 24.7, 30.8, 34.9, 26.6, 25.3, 24.7,\n",
            "       21.2, 19.3, 20. , 16.6, 14.4, 19.4, 19.7, 20.5, 25. , 23.4, 18.9,\n",
            "       35.4, 24.7, 31.6, 23.3, 19.6, 18.7, 16. , 22.2, 25. , 33. , 23.5,\n",
            "       19.4, 22. , 17.4, 20.9, 24.2, 21.7, 22.8, 23.4, 24.1, 21.4, 20. ,\n",
            "       20.8, 21.2, 20.3, 28. , 23.9, 24.8, 22.9, 23.9, 26.6, 22.5, 22.2,\n",
            "       23.6, 28.7, 22.6, 22. , 22.9, 25. , 20.6, 28.4, 21.4, 38.7, 43.8,\n",
            "       33.2, 27.5, 26.5, 18.6, 19.3, 20.1, 19.5, 19.5, 20.4, 19.8, 19.4,\n",
            "       21.7, 22.8, 18.8, 18.7, 18.5, 18.3, 21.2, 19.2, 20.4, 19.3, 22. ,\n",
            "       20.3, 20.5, 17.3, 18.8, 21.4, 15.7, 16.2, 18. , 14.3, 19.2, 19.6,\n",
            "       23. , 18.4, 15.6, 18.1, 17.4, 17.1, 13.3, 17.8, 14. , 14.4, 13.4,\n",
            "       15.6, 11.8, 13.8, 15.6, 14.6, 17.8, 15.4, 21.5, 19.6, 15.3, 19.4,\n",
            "       17. , 15.6, 13.1, 41.3, 24.3, 23.3, 27. , 50. , 50. , 50. , 22.7,\n",
            "       25. , 50. , 23.8, 23.8, 22.3, 17.4, 19.1, 23.1, 23.6, 22.6, 29.4,\n",
            "       23.2, 24.6, 29.9, 37.2, 39.8, 36.2, 37.9, 32.5, 26.4, 29.6, 50. ,\n",
            "       32. , 29.8, 34.9, 37. , 30.5, 36.4, 31.1, 29.1, 50. , 33.3, 30.3,\n",
            "       34.6, 34.9, 32.9, 24.1, 42.3, 48.5, 50. , 22.6, 24.4, 22.5, 24.4,\n",
            "       20. , 21.7, 19.3, 22.4, 28.1, 23.7, 25. , 23.3, 28.7, 21.5, 23. ,\n",
            "       26.7, 21.7, 27.5, 30.1, 44.8, 50. , 37.6, 31.6, 46.7, 31.5, 24.3,\n",
            "       31.7, 41.7, 48.3, 29. , 24. , 25.1, 31.5, 23.7, 23.3, 22. , 20.1,\n",
            "       22.2, 23.7, 17.6, 18.5, 24.3, 20.5, 24.5, 26.2, 24.4, 24.8, 29.6,\n",
            "       42.8, 21.9, 20.9, 44. , 50. , 36. , 30.1, 33.8, 43.1, 48.8, 31. ,\n",
            "       36.5, 22.8, 30.7, 50. , 43.5, 20.7, 21.1, 25.2, 24.4, 35.2, 32.4,\n",
            "       32. , 33.2, 33.1, 29.1, 35.1, 45.4, 35.4, 46. , 50. , 32.2, 22. ,\n",
            "       20.1, 23.2, 22.3, 24.8, 28.5, 37.3, 27.9, 23.9, 21.7, 28.6, 27.1,\n",
            "       20.3, 22.5, 29. , 24.8, 22. , 26.4, 33.1, 36.1, 28.4, 33.4, 28.2,\n",
            "       22.8, 20.3, 16.1, 22.1, 19.4, 21.6, 23.8, 16.2, 17.8, 19.8, 23.1,\n",
            "       21. , 23.8, 23.1, 20.4, 18.5, 25. , 24.6, 23. , 22.2, 19.3, 22.6,\n",
            "       19.8, 17.1, 19.4, 22.2, 20.7, 21.1, 19.5, 18.5, 20.6, 19. , 18.7,\n",
            "       32.7, 16.5, 23.9, 31.2, 17.5, 17.2, 23.1, 24.5, 26.6, 22.9, 24.1,\n",
            "       18.6, 30.1, 18.2, 20.6, 17.8, 21.7, 22.7, 22.6, 25. , 19.9, 20.8,\n",
            "       16.8, 21.9, 27.5, 21.9, 23.1, 50. , 50. , 50. , 50. , 50. , 13.8,\n",
            "       13.8, 15. , 13.9, 13.3, 13.1, 10.2, 10.4, 10.9, 11.3, 12.3,  8.8,\n",
            "        7.2, 10.5,  7.4, 10.2, 11.5, 15.1, 23.2,  9.7, 13.8, 12.7, 13.1,\n",
            "       12.5,  8.5,  5. ,  6.3,  5.6,  7.2, 12.1,  8.3,  8.5,  5. , 11.9,\n",
            "       27.9, 17.2, 27.5, 15. , 17.2, 17.9, 16.3,  7. ,  7.2,  7.5, 10.4,\n",
            "        8.8,  8.4, 16.7, 14.2, 20.8, 13.4, 11.7,  8.3, 10.2, 10.9, 11. ,\n",
            "        9.5, 14.5, 14.1, 16.1, 14.3, 11.7, 13.4,  9.6,  8.7,  8.4, 12.8,\n",
            "       10.5, 17.1, 18.4, 15.4, 10.8, 11.8, 14.9, 12.6, 14.1, 13. , 13.4,\n",
            "       15.2, 16.1, 17.8, 14.9, 14.1, 12.7, 13.5, 14.9, 20. , 16.4, 17.7,\n",
            "       19.5, 20.2, 21.4, 19.9, 19. , 19.1, 19.1, 20.1, 19.9, 19.6, 23.2,\n",
            "       29.8, 13.8, 13.3, 16.7, 12. , 14.6, 21.4, 23. , 23.7, 25. , 21.8,\n",
            "       20.6, 21.2, 19.1, 20.6, 15.2,  7. ,  8.1, 13.6, 20.1, 21.8, 24.5,\n",
            "       23.1, 19.7, 18.3, 21.2, 17.5, 16.8, 22.4, 20.6, 23.9, 22. , 11.9]), 'feature_names': array(['CRIM', 'ZN', 'INDUS', 'CHAS', 'NOX', 'RM', 'AGE', 'DIS', 'RAD',\n",
            "       'TAX', 'PTRATIO', 'B', 'LSTAT'], dtype='<U7'), 'DESCR': \".. _boston_dataset:\\n\\nBoston house prices dataset\\n---------------------------\\n\\n**Data Set Characteristics:**  \\n\\n    :Number of Instances: 506 \\n\\n    :Number of Attributes: 13 numeric/categorical predictive. Median Value (attribute 14) is usually the target.\\n\\n    :Attribute Information (in order):\\n        - CRIM     per capita crime rate by town\\n        - ZN       proportion of residential land zoned for lots over 25,000 sq.ft.\\n        - INDUS    proportion of non-retail business acres per town\\n        - CHAS     Charles River dummy variable (= 1 if tract bounds river; 0 otherwise)\\n        - NOX      nitric oxides concentration (parts per 10 million)\\n        - RM       average number of rooms per dwelling\\n        - AGE      proportion of owner-occupied units built prior to 1940\\n        - DIS      weighted distances to five Boston employment centres\\n        - RAD      index of accessibility to radial highways\\n        - TAX      full-value property-tax rate per $10,000\\n        - PTRATIO  pupil-teacher ratio by town\\n        - B        1000(Bk - 0.63)^2 where Bk is the proportion of blacks by town\\n        - LSTAT    % lower status of the population\\n        - MEDV     Median value of owner-occupied homes in $1000's\\n\\n    :Missing Attribute Values: None\\n\\n    :Creator: Harrison, D. and Rubinfeld, D.L.\\n\\nThis is a copy of UCI ML housing dataset.\\nhttps://archive.ics.uci.edu/ml/machine-learning-databases/housing/\\n\\n\\nThis dataset was taken from the StatLib library which is maintained at Carnegie Mellon University.\\n\\nThe Boston house-price data of Harrison, D. and Rubinfeld, D.L. 'Hedonic\\nprices and the demand for clean air', J. Environ. Economics & Management,\\nvol.5, 81-102, 1978.   Used in Belsley, Kuh & Welsch, 'Regression diagnostics\\n...', Wiley, 1980.   N.B. Various transformations are used in the table on\\npages 244-261 of the latter.\\n\\nThe Boston house-price data has been used in many machine learning papers that address regression\\nproblems.   \\n     \\n.. topic:: References\\n\\n   - Belsley, Kuh & Welsch, 'Regression diagnostics: Identifying Influential Data and Sources of Collinearity', Wiley, 1980. 244-261.\\n   - Quinlan,R. (1993). Combining Instance-Based and Model-Based Learning. In Proceedings on the Tenth International Conference of Machine Learning, 236-243, University of Massachusetts, Amherst. Morgan Kaufmann.\\n\", 'filename': '/usr/local/lib/python3.6/dist-packages/sklearn/datasets/data/boston_house_prices.csv'}\n"
          ],
          "name": "stdout"
        }
      ]
    },
    {
      "cell_type": "code",
      "metadata": {
        "colab": {
          "base_uri": "https://localhost:8080/",
          "height": 204
        },
        "id": "hzNN38Q6Qgh0",
        "outputId": "0af7a94c-c93a-4b9f-aba0-a10fb13be79c"
      },
      "source": [
        "df.head()"
      ],
      "execution_count": null,
      "outputs": [
        {
          "output_type": "execute_result",
          "data": {
            "text/html": [
              "<div>\n",
              "<style scoped>\n",
              "    .dataframe tbody tr th:only-of-type {\n",
              "        vertical-align: middle;\n",
              "    }\n",
              "\n",
              "    .dataframe tbody tr th {\n",
              "        vertical-align: top;\n",
              "    }\n",
              "\n",
              "    .dataframe thead th {\n",
              "        text-align: right;\n",
              "    }\n",
              "</style>\n",
              "<table border=\"1\" class=\"dataframe\">\n",
              "  <thead>\n",
              "    <tr style=\"text-align: right;\">\n",
              "      <th></th>\n",
              "      <th>CRIM</th>\n",
              "      <th>ZN</th>\n",
              "      <th>INDUS</th>\n",
              "      <th>CHAS</th>\n",
              "      <th>NOX</th>\n",
              "      <th>RM</th>\n",
              "      <th>AGE</th>\n",
              "      <th>DIS</th>\n",
              "      <th>RAD</th>\n",
              "      <th>TAX</th>\n",
              "      <th>PTRATIO</th>\n",
              "      <th>B</th>\n",
              "      <th>LSTAT</th>\n",
              "    </tr>\n",
              "  </thead>\n",
              "  <tbody>\n",
              "    <tr>\n",
              "      <th>0</th>\n",
              "      <td>0.00632</td>\n",
              "      <td>18.0</td>\n",
              "      <td>2.31</td>\n",
              "      <td>0.0</td>\n",
              "      <td>0.538</td>\n",
              "      <td>6.575</td>\n",
              "      <td>65.2</td>\n",
              "      <td>4.0900</td>\n",
              "      <td>1.0</td>\n",
              "      <td>296.0</td>\n",
              "      <td>15.3</td>\n",
              "      <td>396.90</td>\n",
              "      <td>4.98</td>\n",
              "    </tr>\n",
              "    <tr>\n",
              "      <th>1</th>\n",
              "      <td>0.02731</td>\n",
              "      <td>0.0</td>\n",
              "      <td>7.07</td>\n",
              "      <td>0.0</td>\n",
              "      <td>0.469</td>\n",
              "      <td>6.421</td>\n",
              "      <td>78.9</td>\n",
              "      <td>4.9671</td>\n",
              "      <td>2.0</td>\n",
              "      <td>242.0</td>\n",
              "      <td>17.8</td>\n",
              "      <td>396.90</td>\n",
              "      <td>9.14</td>\n",
              "    </tr>\n",
              "    <tr>\n",
              "      <th>2</th>\n",
              "      <td>0.02729</td>\n",
              "      <td>0.0</td>\n",
              "      <td>7.07</td>\n",
              "      <td>0.0</td>\n",
              "      <td>0.469</td>\n",
              "      <td>7.185</td>\n",
              "      <td>61.1</td>\n",
              "      <td>4.9671</td>\n",
              "      <td>2.0</td>\n",
              "      <td>242.0</td>\n",
              "      <td>17.8</td>\n",
              "      <td>392.83</td>\n",
              "      <td>4.03</td>\n",
              "    </tr>\n",
              "    <tr>\n",
              "      <th>3</th>\n",
              "      <td>0.03237</td>\n",
              "      <td>0.0</td>\n",
              "      <td>2.18</td>\n",
              "      <td>0.0</td>\n",
              "      <td>0.458</td>\n",
              "      <td>6.998</td>\n",
              "      <td>45.8</td>\n",
              "      <td>6.0622</td>\n",
              "      <td>3.0</td>\n",
              "      <td>222.0</td>\n",
              "      <td>18.7</td>\n",
              "      <td>394.63</td>\n",
              "      <td>2.94</td>\n",
              "    </tr>\n",
              "    <tr>\n",
              "      <th>4</th>\n",
              "      <td>0.06905</td>\n",
              "      <td>0.0</td>\n",
              "      <td>2.18</td>\n",
              "      <td>0.0</td>\n",
              "      <td>0.458</td>\n",
              "      <td>7.147</td>\n",
              "      <td>54.2</td>\n",
              "      <td>6.0622</td>\n",
              "      <td>3.0</td>\n",
              "      <td>222.0</td>\n",
              "      <td>18.7</td>\n",
              "      <td>396.90</td>\n",
              "      <td>5.33</td>\n",
              "    </tr>\n",
              "  </tbody>\n",
              "</table>\n",
              "</div>"
            ],
            "text/plain": [
              "      CRIM    ZN  INDUS  CHAS    NOX  ...  RAD    TAX  PTRATIO       B  LSTAT\n",
              "0  0.00632  18.0   2.31   0.0  0.538  ...  1.0  296.0     15.3  396.90   4.98\n",
              "1  0.02731   0.0   7.07   0.0  0.469  ...  2.0  242.0     17.8  396.90   9.14\n",
              "2  0.02729   0.0   7.07   0.0  0.469  ...  2.0  242.0     17.8  392.83   4.03\n",
              "3  0.03237   0.0   2.18   0.0  0.458  ...  3.0  222.0     18.7  394.63   2.94\n",
              "4  0.06905   0.0   2.18   0.0  0.458  ...  3.0  222.0     18.7  396.90   5.33\n",
              "\n",
              "[5 rows x 13 columns]"
            ]
          },
          "metadata": {
            "tags": []
          },
          "execution_count": 9
        }
      ]
    },
    {
      "cell_type": "code",
      "metadata": {
        "colab": {
          "base_uri": "https://localhost:8080/",
          "height": 452
        },
        "id": "neQvuURcQi07",
        "outputId": "b49c4684-d0c1-46f1-d0a4-0819001f3268"
      },
      "source": [
        "df.corr()"
      ],
      "execution_count": null,
      "outputs": [
        {
          "output_type": "execute_result",
          "data": {
            "text/html": [
              "<div>\n",
              "<style scoped>\n",
              "    .dataframe tbody tr th:only-of-type {\n",
              "        vertical-align: middle;\n",
              "    }\n",
              "\n",
              "    .dataframe tbody tr th {\n",
              "        vertical-align: top;\n",
              "    }\n",
              "\n",
              "    .dataframe thead th {\n",
              "        text-align: right;\n",
              "    }\n",
              "</style>\n",
              "<table border=\"1\" class=\"dataframe\">\n",
              "  <thead>\n",
              "    <tr style=\"text-align: right;\">\n",
              "      <th></th>\n",
              "      <th>CRIM</th>\n",
              "      <th>ZN</th>\n",
              "      <th>INDUS</th>\n",
              "      <th>CHAS</th>\n",
              "      <th>NOX</th>\n",
              "      <th>RM</th>\n",
              "      <th>AGE</th>\n",
              "      <th>DIS</th>\n",
              "      <th>RAD</th>\n",
              "      <th>TAX</th>\n",
              "      <th>PTRATIO</th>\n",
              "      <th>B</th>\n",
              "      <th>LSTAT</th>\n",
              "    </tr>\n",
              "  </thead>\n",
              "  <tbody>\n",
              "    <tr>\n",
              "      <th>CRIM</th>\n",
              "      <td>1.000000</td>\n",
              "      <td>-0.200469</td>\n",
              "      <td>0.406583</td>\n",
              "      <td>-0.055892</td>\n",
              "      <td>0.420972</td>\n",
              "      <td>-0.219247</td>\n",
              "      <td>0.352734</td>\n",
              "      <td>-0.379670</td>\n",
              "      <td>0.625505</td>\n",
              "      <td>0.582764</td>\n",
              "      <td>0.289946</td>\n",
              "      <td>-0.385064</td>\n",
              "      <td>0.455621</td>\n",
              "    </tr>\n",
              "    <tr>\n",
              "      <th>ZN</th>\n",
              "      <td>-0.200469</td>\n",
              "      <td>1.000000</td>\n",
              "      <td>-0.533828</td>\n",
              "      <td>-0.042697</td>\n",
              "      <td>-0.516604</td>\n",
              "      <td>0.311991</td>\n",
              "      <td>-0.569537</td>\n",
              "      <td>0.664408</td>\n",
              "      <td>-0.311948</td>\n",
              "      <td>-0.314563</td>\n",
              "      <td>-0.391679</td>\n",
              "      <td>0.175520</td>\n",
              "      <td>-0.412995</td>\n",
              "    </tr>\n",
              "    <tr>\n",
              "      <th>INDUS</th>\n",
              "      <td>0.406583</td>\n",
              "      <td>-0.533828</td>\n",
              "      <td>1.000000</td>\n",
              "      <td>0.062938</td>\n",
              "      <td>0.763651</td>\n",
              "      <td>-0.391676</td>\n",
              "      <td>0.644779</td>\n",
              "      <td>-0.708027</td>\n",
              "      <td>0.595129</td>\n",
              "      <td>0.720760</td>\n",
              "      <td>0.383248</td>\n",
              "      <td>-0.356977</td>\n",
              "      <td>0.603800</td>\n",
              "    </tr>\n",
              "    <tr>\n",
              "      <th>CHAS</th>\n",
              "      <td>-0.055892</td>\n",
              "      <td>-0.042697</td>\n",
              "      <td>0.062938</td>\n",
              "      <td>1.000000</td>\n",
              "      <td>0.091203</td>\n",
              "      <td>0.091251</td>\n",
              "      <td>0.086518</td>\n",
              "      <td>-0.099176</td>\n",
              "      <td>-0.007368</td>\n",
              "      <td>-0.035587</td>\n",
              "      <td>-0.121515</td>\n",
              "      <td>0.048788</td>\n",
              "      <td>-0.053929</td>\n",
              "    </tr>\n",
              "    <tr>\n",
              "      <th>NOX</th>\n",
              "      <td>0.420972</td>\n",
              "      <td>-0.516604</td>\n",
              "      <td>0.763651</td>\n",
              "      <td>0.091203</td>\n",
              "      <td>1.000000</td>\n",
              "      <td>-0.302188</td>\n",
              "      <td>0.731470</td>\n",
              "      <td>-0.769230</td>\n",
              "      <td>0.611441</td>\n",
              "      <td>0.668023</td>\n",
              "      <td>0.188933</td>\n",
              "      <td>-0.380051</td>\n",
              "      <td>0.590879</td>\n",
              "    </tr>\n",
              "    <tr>\n",
              "      <th>RM</th>\n",
              "      <td>-0.219247</td>\n",
              "      <td>0.311991</td>\n",
              "      <td>-0.391676</td>\n",
              "      <td>0.091251</td>\n",
              "      <td>-0.302188</td>\n",
              "      <td>1.000000</td>\n",
              "      <td>-0.240265</td>\n",
              "      <td>0.205246</td>\n",
              "      <td>-0.209847</td>\n",
              "      <td>-0.292048</td>\n",
              "      <td>-0.355501</td>\n",
              "      <td>0.128069</td>\n",
              "      <td>-0.613808</td>\n",
              "    </tr>\n",
              "    <tr>\n",
              "      <th>AGE</th>\n",
              "      <td>0.352734</td>\n",
              "      <td>-0.569537</td>\n",
              "      <td>0.644779</td>\n",
              "      <td>0.086518</td>\n",
              "      <td>0.731470</td>\n",
              "      <td>-0.240265</td>\n",
              "      <td>1.000000</td>\n",
              "      <td>-0.747881</td>\n",
              "      <td>0.456022</td>\n",
              "      <td>0.506456</td>\n",
              "      <td>0.261515</td>\n",
              "      <td>-0.273534</td>\n",
              "      <td>0.602339</td>\n",
              "    </tr>\n",
              "    <tr>\n",
              "      <th>DIS</th>\n",
              "      <td>-0.379670</td>\n",
              "      <td>0.664408</td>\n",
              "      <td>-0.708027</td>\n",
              "      <td>-0.099176</td>\n",
              "      <td>-0.769230</td>\n",
              "      <td>0.205246</td>\n",
              "      <td>-0.747881</td>\n",
              "      <td>1.000000</td>\n",
              "      <td>-0.494588</td>\n",
              "      <td>-0.534432</td>\n",
              "      <td>-0.232471</td>\n",
              "      <td>0.291512</td>\n",
              "      <td>-0.496996</td>\n",
              "    </tr>\n",
              "    <tr>\n",
              "      <th>RAD</th>\n",
              "      <td>0.625505</td>\n",
              "      <td>-0.311948</td>\n",
              "      <td>0.595129</td>\n",
              "      <td>-0.007368</td>\n",
              "      <td>0.611441</td>\n",
              "      <td>-0.209847</td>\n",
              "      <td>0.456022</td>\n",
              "      <td>-0.494588</td>\n",
              "      <td>1.000000</td>\n",
              "      <td>0.910228</td>\n",
              "      <td>0.464741</td>\n",
              "      <td>-0.444413</td>\n",
              "      <td>0.488676</td>\n",
              "    </tr>\n",
              "    <tr>\n",
              "      <th>TAX</th>\n",
              "      <td>0.582764</td>\n",
              "      <td>-0.314563</td>\n",
              "      <td>0.720760</td>\n",
              "      <td>-0.035587</td>\n",
              "      <td>0.668023</td>\n",
              "      <td>-0.292048</td>\n",
              "      <td>0.506456</td>\n",
              "      <td>-0.534432</td>\n",
              "      <td>0.910228</td>\n",
              "      <td>1.000000</td>\n",
              "      <td>0.460853</td>\n",
              "      <td>-0.441808</td>\n",
              "      <td>0.543993</td>\n",
              "    </tr>\n",
              "    <tr>\n",
              "      <th>PTRATIO</th>\n",
              "      <td>0.289946</td>\n",
              "      <td>-0.391679</td>\n",
              "      <td>0.383248</td>\n",
              "      <td>-0.121515</td>\n",
              "      <td>0.188933</td>\n",
              "      <td>-0.355501</td>\n",
              "      <td>0.261515</td>\n",
              "      <td>-0.232471</td>\n",
              "      <td>0.464741</td>\n",
              "      <td>0.460853</td>\n",
              "      <td>1.000000</td>\n",
              "      <td>-0.177383</td>\n",
              "      <td>0.374044</td>\n",
              "    </tr>\n",
              "    <tr>\n",
              "      <th>B</th>\n",
              "      <td>-0.385064</td>\n",
              "      <td>0.175520</td>\n",
              "      <td>-0.356977</td>\n",
              "      <td>0.048788</td>\n",
              "      <td>-0.380051</td>\n",
              "      <td>0.128069</td>\n",
              "      <td>-0.273534</td>\n",
              "      <td>0.291512</td>\n",
              "      <td>-0.444413</td>\n",
              "      <td>-0.441808</td>\n",
              "      <td>-0.177383</td>\n",
              "      <td>1.000000</td>\n",
              "      <td>-0.366087</td>\n",
              "    </tr>\n",
              "    <tr>\n",
              "      <th>LSTAT</th>\n",
              "      <td>0.455621</td>\n",
              "      <td>-0.412995</td>\n",
              "      <td>0.603800</td>\n",
              "      <td>-0.053929</td>\n",
              "      <td>0.590879</td>\n",
              "      <td>-0.613808</td>\n",
              "      <td>0.602339</td>\n",
              "      <td>-0.496996</td>\n",
              "      <td>0.488676</td>\n",
              "      <td>0.543993</td>\n",
              "      <td>0.374044</td>\n",
              "      <td>-0.366087</td>\n",
              "      <td>1.000000</td>\n",
              "    </tr>\n",
              "  </tbody>\n",
              "</table>\n",
              "</div>"
            ],
            "text/plain": [
              "             CRIM        ZN     INDUS  ...   PTRATIO         B     LSTAT\n",
              "CRIM     1.000000 -0.200469  0.406583  ...  0.289946 -0.385064  0.455621\n",
              "ZN      -0.200469  1.000000 -0.533828  ... -0.391679  0.175520 -0.412995\n",
              "INDUS    0.406583 -0.533828  1.000000  ...  0.383248 -0.356977  0.603800\n",
              "CHAS    -0.055892 -0.042697  0.062938  ... -0.121515  0.048788 -0.053929\n",
              "NOX      0.420972 -0.516604  0.763651  ...  0.188933 -0.380051  0.590879\n",
              "RM      -0.219247  0.311991 -0.391676  ... -0.355501  0.128069 -0.613808\n",
              "AGE      0.352734 -0.569537  0.644779  ...  0.261515 -0.273534  0.602339\n",
              "DIS     -0.379670  0.664408 -0.708027  ... -0.232471  0.291512 -0.496996\n",
              "RAD      0.625505 -0.311948  0.595129  ...  0.464741 -0.444413  0.488676\n",
              "TAX      0.582764 -0.314563  0.720760  ...  0.460853 -0.441808  0.543993\n",
              "PTRATIO  0.289946 -0.391679  0.383248  ...  1.000000 -0.177383  0.374044\n",
              "B       -0.385064  0.175520 -0.356977  ... -0.177383  1.000000 -0.366087\n",
              "LSTAT    0.455621 -0.412995  0.603800  ...  0.374044 -0.366087  1.000000\n",
              "\n",
              "[13 rows x 13 columns]"
            ]
          },
          "metadata": {
            "tags": []
          },
          "execution_count": 10
        }
      ]
    },
    {
      "cell_type": "code",
      "metadata": {
        "id": "0zv5GB_CQmGE"
      },
      "source": [
        "X=df.loc[:, df.columns == 'RAD']\r\n",
        "y=df.loc[:, df.columns == 'TAX']"
      ],
      "execution_count": null,
      "outputs": []
    },
    {
      "cell_type": "code",
      "metadata": {
        "colab": {
          "base_uri": "https://localhost:8080/",
          "height": 419
        },
        "id": "WIM8p8EzRV0L",
        "outputId": "6d2e3682-df24-4f58-ba8d-486d735951ac"
      },
      "source": [
        "X"
      ],
      "execution_count": null,
      "outputs": [
        {
          "output_type": "execute_result",
          "data": {
            "text/html": [
              "<div>\n",
              "<style scoped>\n",
              "    .dataframe tbody tr th:only-of-type {\n",
              "        vertical-align: middle;\n",
              "    }\n",
              "\n",
              "    .dataframe tbody tr th {\n",
              "        vertical-align: top;\n",
              "    }\n",
              "\n",
              "    .dataframe thead th {\n",
              "        text-align: right;\n",
              "    }\n",
              "</style>\n",
              "<table border=\"1\" class=\"dataframe\">\n",
              "  <thead>\n",
              "    <tr style=\"text-align: right;\">\n",
              "      <th></th>\n",
              "      <th>RAD</th>\n",
              "    </tr>\n",
              "  </thead>\n",
              "  <tbody>\n",
              "    <tr>\n",
              "      <th>0</th>\n",
              "      <td>1.0</td>\n",
              "    </tr>\n",
              "    <tr>\n",
              "      <th>1</th>\n",
              "      <td>2.0</td>\n",
              "    </tr>\n",
              "    <tr>\n",
              "      <th>2</th>\n",
              "      <td>2.0</td>\n",
              "    </tr>\n",
              "    <tr>\n",
              "      <th>3</th>\n",
              "      <td>3.0</td>\n",
              "    </tr>\n",
              "    <tr>\n",
              "      <th>4</th>\n",
              "      <td>3.0</td>\n",
              "    </tr>\n",
              "    <tr>\n",
              "      <th>...</th>\n",
              "      <td>...</td>\n",
              "    </tr>\n",
              "    <tr>\n",
              "      <th>501</th>\n",
              "      <td>1.0</td>\n",
              "    </tr>\n",
              "    <tr>\n",
              "      <th>502</th>\n",
              "      <td>1.0</td>\n",
              "    </tr>\n",
              "    <tr>\n",
              "      <th>503</th>\n",
              "      <td>1.0</td>\n",
              "    </tr>\n",
              "    <tr>\n",
              "      <th>504</th>\n",
              "      <td>1.0</td>\n",
              "    </tr>\n",
              "    <tr>\n",
              "      <th>505</th>\n",
              "      <td>1.0</td>\n",
              "    </tr>\n",
              "  </tbody>\n",
              "</table>\n",
              "<p>506 rows × 1 columns</p>\n",
              "</div>"
            ],
            "text/plain": [
              "     RAD\n",
              "0    1.0\n",
              "1    2.0\n",
              "2    2.0\n",
              "3    3.0\n",
              "4    3.0\n",
              "..   ...\n",
              "501  1.0\n",
              "502  1.0\n",
              "503  1.0\n",
              "504  1.0\n",
              "505  1.0\n",
              "\n",
              "[506 rows x 1 columns]"
            ]
          },
          "metadata": {
            "tags": []
          },
          "execution_count": 12
        }
      ]
    },
    {
      "cell_type": "code",
      "metadata": {
        "colab": {
          "base_uri": "https://localhost:8080/",
          "height": 282
        },
        "id": "d0ztEJOsRWuD",
        "outputId": "5134500d-4386-43db-ac54-9d7e5bbbaa5f"
      },
      "source": [
        "plt.scatter(X,y)"
      ],
      "execution_count": null,
      "outputs": [
        {
          "output_type": "execute_result",
          "data": {
            "text/plain": [
              "<matplotlib.collections.PathCollection at 0x7f8d078a8c50>"
            ]
          },
          "metadata": {
            "tags": []
          },
          "execution_count": 13
        },
        {
          "output_type": "display_data",
          "data": {
            "image/png": "[encoded data removed]",
            "text/plain": [
              "<Figure size 432x288 with 1 Axes>"
            ]
          },
          "metadata": {
            "tags": [],
            "needs_background": "light"
          }
        }
      ]
    },
    {
      "cell_type": "code",
      "metadata": {
        "id": "X-IT2OBnRZdD"
      },
      "source": [
        "ds=pd.concat((X,y), axis=1)"
      ],
      "execution_count": null,
      "outputs": []
    },
    {
      "cell_type": "code",
      "metadata": {
        "colab": {
          "base_uri": "https://localhost:8080/",
          "height": 419
        },
        "id": "kNGIBAabRe0r",
        "outputId": "5c855642-96d8-42a1-b92f-a4519587afe5"
      },
      "source": [
        "ds"
      ],
      "execution_count": null,
      "outputs": [
        {
          "output_type": "execute_result",
          "data": {
            "text/html": [
              "<div>\n",
              "<style scoped>\n",
              "    .dataframe tbody tr th:only-of-type {\n",
              "        vertical-align: middle;\n",
              "    }\n",
              "\n",
              "    .dataframe tbody tr th {\n",
              "        vertical-align: top;\n",
              "    }\n",
              "\n",
              "    .dataframe thead th {\n",
              "        text-align: right;\n",
              "    }\n",
              "</style>\n",
              "<table border=\"1\" class=\"dataframe\">\n",
              "  <thead>\n",
              "    <tr style=\"text-align: right;\">\n",
              "      <th></th>\n",
              "      <th>RAD</th>\n",
              "      <th>TAX</th>\n",
              "    </tr>\n",
              "  </thead>\n",
              "  <tbody>\n",
              "    <tr>\n",
              "      <th>0</th>\n",
              "      <td>1.0</td>\n",
              "      <td>296.0</td>\n",
              "    </tr>\n",
              "    <tr>\n",
              "      <th>1</th>\n",
              "      <td>2.0</td>\n",
              "      <td>242.0</td>\n",
              "    </tr>\n",
              "    <tr>\n",
              "      <th>2</th>\n",
              "      <td>2.0</td>\n",
              "      <td>242.0</td>\n",
              "    </tr>\n",
              "    <tr>\n",
              "      <th>3</th>\n",
              "      <td>3.0</td>\n",
              "      <td>222.0</td>\n",
              "    </tr>\n",
              "    <tr>\n",
              "      <th>4</th>\n",
              "      <td>3.0</td>\n",
              "      <td>222.0</td>\n",
              "    </tr>\n",
              "    <tr>\n",
              "      <th>...</th>\n",
              "      <td>...</td>\n",
              "      <td>...</td>\n",
              "    </tr>\n",
              "    <tr>\n",
              "      <th>501</th>\n",
              "      <td>1.0</td>\n",
              "      <td>273.0</td>\n",
              "    </tr>\n",
              "    <tr>\n",
              "      <th>502</th>\n",
              "      <td>1.0</td>\n",
              "      <td>273.0</td>\n",
              "    </tr>\n",
              "    <tr>\n",
              "      <th>503</th>\n",
              "      <td>1.0</td>\n",
              "      <td>273.0</td>\n",
              "    </tr>\n",
              "    <tr>\n",
              "      <th>504</th>\n",
              "      <td>1.0</td>\n",
              "      <td>273.0</td>\n",
              "    </tr>\n",
              "    <tr>\n",
              "      <th>505</th>\n",
              "      <td>1.0</td>\n",
              "      <td>273.0</td>\n",
              "    </tr>\n",
              "  </tbody>\n",
              "</table>\n",
              "<p>506 rows × 2 columns</p>\n",
              "</div>"
            ],
            "text/plain": [
              "     RAD    TAX\n",
              "0    1.0  296.0\n",
              "1    2.0  242.0\n",
              "2    2.0  242.0\n",
              "3    3.0  222.0\n",
              "4    3.0  222.0\n",
              "..   ...    ...\n",
              "501  1.0  273.0\n",
              "502  1.0  273.0\n",
              "503  1.0  273.0\n",
              "504  1.0  273.0\n",
              "505  1.0  273.0\n",
              "\n",
              "[506 rows x 2 columns]"
            ]
          },
          "metadata": {
            "tags": []
          },
          "execution_count": 15
        }
      ]
    },
    {
      "cell_type": "code",
      "metadata": {
        "colab": {
          "base_uri": "https://localhost:8080/"
        },
        "id": "p8VANS1jiISs",
        "outputId": "15898334-7027-41c3-9038-ba1d0ea3d6cd"
      },
      "source": [
        "Res1F = smf.ols('y~X', ds).fit()\r\n",
        "Res2F = smf.ols('y ~ X+I(X**2)', ds).fit()\r\n",
        "Res3F = smf.ols('y ~ X+I(X**2)+I(X**3)', ds).fit()\r\n",
        "\r\n",
        "print(Res1F.summary())\r\n",
        "print(Res2F.summary())\r\n",
        "print(Res3F.summary())"
      ],
      "execution_count": null,
      "outputs": [
        {
          "output_type": "stream",
          "text": [
            "                            OLS Regression Results                            \n",
            "==============================================================================\n",
            "Dep. Variable:                      y   R-squared:                       0.829\n",
            "Model:                            OLS   Adj. R-squared:                  0.828\n",
            "Method:                 Least Squares   F-statistic:                     2435.\n",
            "Date:                Wed, 20 Jan 2021   Prob (F-statistic):          4.13e-195\n",
            "Time:                        20:59:20   Log-Likelihood:                -2865.7\n",
            "No. Observations:                 506   AIC:                             5735.\n",
            "Df Residuals:                     504   BIC:                             5744.\n",
            "Df Model:                           1                                         \n",
            "Covariance Type:            nonrobust                                         \n",
            "==============================================================================\n",
            "                 coef    std err          t      P>|t|      [0.025      0.975]\n",
            "------------------------------------------------------------------------------\n",
            "Intercept    239.9927      4.612     52.037      0.000     230.932     249.054\n",
            "X             17.6183      0.357     49.346      0.000      16.917      18.320\n",
            "==============================================================================\n",
            "Omnibus:                      242.950   Durbin-Watson:                   0.393\n",
            "Prob(Omnibus):                  0.000   Jarque-Bera (JB):             2045.440\n",
            "Skew:                           1.907   Prob(JB):                         0.00\n",
            "Kurtosis:                      12.082   Cond. No.                         19.2\n",
            "==============================================================================\n",
            "\n",
            "Warnings:\n",
            "[1] Standard Errors assume that the covariance matrix of the errors is correctly specified.\n",
            "                            OLS Regression Results                            \n",
            "==============================================================================\n",
            "Dep. Variable:                      y   R-squared:                       0.832\n",
            "Model:                            OLS   Adj. R-squared:                  0.831\n",
            "Method:                 Least Squares   F-statistic:                     1245.\n",
            "Date:                Wed, 20 Jan 2021   Prob (F-statistic):          1.60e-195\n",
            "Time:                        20:59:20   Log-Likelihood:                -2860.6\n",
            "No. Observations:                 506   AIC:                             5727.\n",
            "Df Residuals:                     503   BIC:                             5740.\n",
            "Df Model:                           2                                         \n",
            "Covariance Type:            nonrobust                                         \n",
            "==============================================================================\n",
            "                 coef    std err          t      P>|t|      [0.025      0.975]\n",
            "------------------------------------------------------------------------------\n",
            "Intercept    276.2468     12.211     22.624      0.000     252.257     300.237\n",
            "X              7.4065      3.209      2.308      0.021       1.102      13.711\n",
            "I(X ** 2)      0.3672      0.115      3.202      0.001       0.142       0.592\n",
            "==============================================================================\n",
            "Omnibus:                      252.860   Durbin-Watson:                   0.380\n",
            "Prob(Omnibus):                  0.000   Jarque-Bera (JB):             2180.958\n",
            "Skew:                           1.998   Prob(JB):                         0.00\n",
            "Kurtosis:                      12.353   Cond. No.                     1.21e+03\n",
            "==============================================================================\n",
            "\n",
            "Warnings:\n",
            "[1] Standard Errors assume that the covariance matrix of the errors is correctly specified.\n",
            "[2] The condition number is large, 1.21e+03. This might indicate that there are\n",
            "strong multicollinearity or other numerical problems.\n",
            "                            OLS Regression Results                            \n",
            "==============================================================================\n",
            "Dep. Variable:                      y   R-squared:                       0.839\n",
            "Model:                            OLS   Adj. R-squared:                  0.838\n",
            "Method:                 Least Squares   F-statistic:                     869.1\n",
            "Date:                Wed, 20 Jan 2021   Prob (F-statistic):          2.72e-198\n",
            "Time:                        20:59:20   Log-Likelihood:                -2850.5\n",
            "No. Observations:                 506   AIC:                             5709.\n",
            "Df Residuals:                     502   BIC:                             5726.\n",
            "Df Model:                           3                                         \n",
            "Covariance Type:            nonrobust                                         \n",
            "==============================================================================\n",
            "                 coef    std err          t      P>|t|      [0.025      0.975]\n",
            "------------------------------------------------------------------------------\n",
            "Intercept    198.9798     20.838      9.549      0.000     158.039     239.920\n",
            "X             53.3114     10.608      5.026      0.000      32.471      74.152\n",
            "I(X ** 2)     -6.4561      1.510     -4.276      0.000      -9.423      -3.490\n",
            "I(X ** 3)      0.2102      0.046      4.532      0.000       0.119       0.301\n",
            "==============================================================================\n",
            "Omnibus:                      241.192   Durbin-Watson:                   0.413\n",
            "Prob(Omnibus):                  0.000   Jarque-Bera (JB):             2035.149\n",
            "Skew:                           1.888   Prob(JB):                         0.00\n",
            "Kurtosis:                      12.070   Cond. No.                     5.43e+04\n",
            "==============================================================================\n",
            "\n",
            "Warnings:\n",
            "[1] Standard Errors assume that the covariance matrix of the errors is correctly specified.\n",
            "[2] The condition number is large, 5.43e+04. This might indicate that there are\n",
            "strong multicollinearity or other numerical problems.\n"
          ],
          "name": "stdout"
        }
      ]
    },
    {
      "cell_type": "code",
      "metadata": {
        "colab": {
          "base_uri": "https://localhost:8080/",
          "height": 265
        },
        "id": "KcxqxS6-Ri6D",
        "outputId": "87f075a2-ac59-495c-e0cc-8b19fb9cbc8d"
      },
      "source": [
        "plt.scatter(X, y)\r\n",
        "plt.plot(X, Res1F.fittedvalues, color='r')\r\n",
        "plt.show()"
      ],
      "execution_count": null,
      "outputs": [
        {
          "output_type": "display_data",
          "data": {
            "image/png": "[encoded data removed]",
            "text/plain": [
              "<Figure size 432x288 with 1 Axes>"
            ]
          },
          "metadata": {
            "tags": [],
            "needs_background": "light"
          }
        }
      ]
    },
    {
      "cell_type": "markdown",
      "metadata": {
        "id": "SjXIJDo9R9wD"
      },
      "source": [
        "Linear Regression - sklearn"
      ]
    },
    {
      "cell_type": "code",
      "metadata": {
        "id": "4y0sHkLRR6ez"
      },
      "source": [
        "from sklearn.linear_model import LinearRegression\r\n",
        "reg = LinearRegression().fit(X, y)"
      ],
      "execution_count": null,
      "outputs": []
    },
    {
      "cell_type": "code",
      "metadata": {
        "colab": {
          "base_uri": "https://localhost:8080/"
        },
        "id": "R4tR_yZ6SBFj",
        "outputId": "fbbcd8b8-2ce1-41ff-d789-bd443c772bb0"
      },
      "source": [
        "k = reg.coef_\r\n",
        "n = reg.intercept_\r\n",
        "\r\n",
        "print(k)\r\n",
        "print(n)"
      ],
      "execution_count": null,
      "outputs": [
        {
          "output_type": "stream",
          "text": [
            "[[17.61831445]]\n",
            "[239.99269677]\n"
          ],
          "name": "stdout"
        }
      ]
    },
    {
      "cell_type": "code",
      "metadata": {
        "id": "F2oOHwPlSCyj"
      },
      "source": [
        "y_predict = k*X + n"
      ],
      "execution_count": null,
      "outputs": []
    },
    {
      "cell_type": "code",
      "metadata": {
        "colab": {
          "base_uri": "https://localhost:8080/",
          "height": 282
        },
        "id": "Mktj4xMTSIUD",
        "outputId": "15a3d465-bc5c-4859-b1f1-d8e6f5ab56ce"
      },
      "source": [
        "plt.scatter(X,y)\r\n",
        "plt.plot(X,y_predict, color='red')"
      ],
      "execution_count": null,
      "outputs": [
        {
          "output_type": "execute_result",
          "data": {
            "text/plain": [
              "[<matplotlib.lines.Line2D at 0x7f8cf492d278>]"
            ]
          },
          "metadata": {
            "tags": []
          },
          "execution_count": 112
        },
        {
          "output_type": "display_data",
          "data": {
            "image/png": "[encoded data removed]",
            "text/plain": [
              "<Figure size 432x288 with 1 Axes>"
            ]
          },
          "metadata": {
            "tags": [],
            "needs_background": "light"
          }
        }
      ]
    },
    {
      "cell_type": "code",
      "metadata": {
        "id": "s-lA5h1bSOpz"
      },
      "source": [
        "#reg.predict(np.array([[100]]))"
      ],
      "execution_count": null,
      "outputs": []
    },
    {
      "cell_type": "markdown",
      "metadata": {
        "id": "8WodKwxLSvwJ"
      },
      "source": [
        "![image.png](data:image/png;base64,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)"
      ]
    },
    {
      "cell_type": "markdown",
      "metadata": {
        "id": "kuXR9QDNNAPB"
      },
      "source": [
        "Multiple regression"
      ]
    },
    {
      "cell_type": "code",
      "metadata": {
        "id": "xBDoB9Q6OJQi"
      },
      "source": [
        "X1=df.loc[:, df.columns != 'CRIM']"
      ],
      "execution_count": null,
      "outputs": []
    },
    {
      "cell_type": "code",
      "metadata": {
        "colab": {
          "base_uri": "https://localhost:8080/",
          "height": 419
        },
        "id": "K5CKpjydOgfD",
        "outputId": "167f0625-0391-4475-d43e-11786f85c901"
      },
      "source": [
        "X1=sm.add_constant(X1)\r\n",
        "X1"
      ],
      "execution_count": null,
      "outputs": [
        {
          "output_type": "execute_result",
          "data": {
            "text/html": [
              "<div>\n",
              "<style scoped>\n",
              "    .dataframe tbody tr th:only-of-type {\n",
              "        vertical-align: middle;\n",
              "    }\n",
              "\n",
              "    .dataframe tbody tr th {\n",
              "        vertical-align: top;\n",
              "    }\n",
              "\n",
              "    .dataframe thead th {\n",
              "        text-align: right;\n",
              "    }\n",
              "</style>\n",
              "<table border=\"1\" class=\"dataframe\">\n",
              "  <thead>\n",
              "    <tr style=\"text-align: right;\">\n",
              "      <th></th>\n",
              "      <th>const</th>\n",
              "      <th>ZN</th>\n",
              "      <th>INDUS</th>\n",
              "      <th>CHAS</th>\n",
              "      <th>NOX</th>\n",
              "      <th>RM</th>\n",
              "      <th>AGE</th>\n",
              "      <th>DIS</th>\n",
              "      <th>RAD</th>\n",
              "      <th>TAX</th>\n",
              "      <th>PTRATIO</th>\n",
              "      <th>B</th>\n",
              "      <th>LSTAT</th>\n",
              "    </tr>\n",
              "  </thead>\n",
              "  <tbody>\n",
              "    <tr>\n",
              "      <th>0</th>\n",
              "      <td>1.0</td>\n",
              "      <td>18.0</td>\n",
              "      <td>2.31</td>\n",
              "      <td>0.0</td>\n",
              "      <td>0.538</td>\n",
              "      <td>6.575</td>\n",
              "      <td>65.2</td>\n",
              "      <td>4.0900</td>\n",
              "      <td>1.0</td>\n",
              "      <td>296.0</td>\n",
              "      <td>15.3</td>\n",
              "      <td>396.90</td>\n",
              "      <td>4.98</td>\n",
              "    </tr>\n",
              "    <tr>\n",
              "      <th>1</th>\n",
              "      <td>1.0</td>\n",
              "      <td>0.0</td>\n",
              "      <td>7.07</td>\n",
              "      <td>0.0</td>\n",
              "      <td>0.469</td>\n",
              "      <td>6.421</td>\n",
              "      <td>78.9</td>\n",
              "      <td>4.9671</td>\n",
              "      <td>2.0</td>\n",
              "      <td>242.0</td>\n",
              "      <td>17.8</td>\n",
              "      <td>396.90</td>\n",
              "      <td>9.14</td>\n",
              "    </tr>\n",
              "    <tr>\n",
              "      <th>2</th>\n",
              "      <td>1.0</td>\n",
              "      <td>0.0</td>\n",
              "      <td>7.07</td>\n",
              "      <td>0.0</td>\n",
              "      <td>0.469</td>\n",
              "      <td>7.185</td>\n",
              "      <td>61.1</td>\n",
              "      <td>4.9671</td>\n",
              "      <td>2.0</td>\n",
              "      <td>242.0</td>\n",
              "      <td>17.8</td>\n",
              "      <td>392.83</td>\n",
              "      <td>4.03</td>\n",
              "    </tr>\n",
              "    <tr>\n",
              "      <th>3</th>\n",
              "      <td>1.0</td>\n",
              "      <td>0.0</td>\n",
              "      <td>2.18</td>\n",
              "      <td>0.0</td>\n",
              "      <td>0.458</td>\n",
              "      <td>6.998</td>\n",
              "      <td>45.8</td>\n",
              "      <td>6.0622</td>\n",
              "      <td>3.0</td>\n",
              "      <td>222.0</td>\n",
              "      <td>18.7</td>\n",
              "      <td>394.63</td>\n",
              "      <td>2.94</td>\n",
              "    </tr>\n",
              "    <tr>\n",
              "      <th>4</th>\n",
              "      <td>1.0</td>\n",
              "      <td>0.0</td>\n",
              "      <td>2.18</td>\n",
              "      <td>0.0</td>\n",
              "      <td>0.458</td>\n",
              "      <td>7.147</td>\n",
              "      <td>54.2</td>\n",
              "      <td>6.0622</td>\n",
              "      <td>3.0</td>\n",
              "      <td>222.0</td>\n",
              "      <td>18.7</td>\n",
              "      <td>396.90</td>\n",
              "      <td>5.33</td>\n",
              "    </tr>\n",
              "    <tr>\n",
              "      <th>...</th>\n",
              "      <td>...</td>\n",
              "      <td>...</td>\n",
              "      <td>...</td>\n",
              "      <td>...</td>\n",
              "      <td>...</td>\n",
              "      <td>...</td>\n",
              "      <td>...</td>\n",
              "      <td>...</td>\n",
              "      <td>...</td>\n",
              "      <td>...</td>\n",
              "      <td>...</td>\n",
              "      <td>...</td>\n",
              "      <td>...</td>\n",
              "    </tr>\n",
              "    <tr>\n",
              "      <th>501</th>\n",
              "      <td>1.0</td>\n",
              "      <td>0.0</td>\n",
              "      <td>11.93</td>\n",
              "      <td>0.0</td>\n",
              "      <td>0.573</td>\n",
              "      <td>6.593</td>\n",
              "      <td>69.1</td>\n",
              "      <td>2.4786</td>\n",
              "      <td>1.0</td>\n",
              "      <td>273.0</td>\n",
              "      <td>21.0</td>\n",
              "      <td>391.99</td>\n",
              "      <td>9.67</td>\n",
              "    </tr>\n",
              "    <tr>\n",
              "      <th>502</th>\n",
              "      <td>1.0</td>\n",
              "      <td>0.0</td>\n",
              "      <td>11.93</td>\n",
              "      <td>0.0</td>\n",
              "      <td>0.573</td>\n",
              "      <td>6.120</td>\n",
              "      <td>76.7</td>\n",
              "      <td>2.2875</td>\n",
              "      <td>1.0</td>\n",
              "      <td>273.0</td>\n",
              "      <td>21.0</td>\n",
              "      <td>396.90</td>\n",
              "      <td>9.08</td>\n",
              "    </tr>\n",
              "    <tr>\n",
              "      <th>503</th>\n",
              "      <td>1.0</td>\n",
              "      <td>0.0</td>\n",
              "      <td>11.93</td>\n",
              "      <td>0.0</td>\n",
              "      <td>0.573</td>\n",
              "      <td>6.976</td>\n",
              "      <td>91.0</td>\n",
              "      <td>2.1675</td>\n",
              "      <td>1.0</td>\n",
              "      <td>273.0</td>\n",
              "      <td>21.0</td>\n",
              "      <td>396.90</td>\n",
              "      <td>5.64</td>\n",
              "    </tr>\n",
              "    <tr>\n",
              "      <th>504</th>\n",
              "      <td>1.0</td>\n",
              "      <td>0.0</td>\n",
              "      <td>11.93</td>\n",
              "      <td>0.0</td>\n",
              "      <td>0.573</td>\n",
              "      <td>6.794</td>\n",
              "      <td>89.3</td>\n",
              "      <td>2.3889</td>\n",
              "      <td>1.0</td>\n",
              "      <td>273.0</td>\n",
              "      <td>21.0</td>\n",
              "      <td>393.45</td>\n",
              "      <td>6.48</td>\n",
              "    </tr>\n",
              "    <tr>\n",
              "      <th>505</th>\n",
              "      <td>1.0</td>\n",
              "      <td>0.0</td>\n",
              "      <td>11.93</td>\n",
              "      <td>0.0</td>\n",
              "      <td>0.573</td>\n",
              "      <td>6.030</td>\n",
              "      <td>80.8</td>\n",
              "      <td>2.5050</td>\n",
              "      <td>1.0</td>\n",
              "      <td>273.0</td>\n",
              "      <td>21.0</td>\n",
              "      <td>396.90</td>\n",
              "      <td>7.88</td>\n",
              "    </tr>\n",
              "  </tbody>\n",
              "</table>\n",
              "<p>506 rows × 13 columns</p>\n",
              "</div>"
            ],
            "text/plain": [
              "     const    ZN  INDUS  CHAS    NOX  ...  RAD    TAX  PTRATIO       B  LSTAT\n",
              "0      1.0  18.0   2.31   0.0  0.538  ...  1.0  296.0     15.3  396.90   4.98\n",
              "1      1.0   0.0   7.07   0.0  0.469  ...  2.0  242.0     17.8  396.90   9.14\n",
              "2      1.0   0.0   7.07   0.0  0.469  ...  2.0  242.0     17.8  392.83   4.03\n",
              "3      1.0   0.0   2.18   0.0  0.458  ...  3.0  222.0     18.7  394.63   2.94\n",
              "4      1.0   0.0   2.18   0.0  0.458  ...  3.0  222.0     18.7  396.90   5.33\n",
              "..     ...   ...    ...   ...    ...  ...  ...    ...      ...     ...    ...\n",
              "501    1.0   0.0  11.93   0.0  0.573  ...  1.0  273.0     21.0  391.99   9.67\n",
              "502    1.0   0.0  11.93   0.0  0.573  ...  1.0  273.0     21.0  396.90   9.08\n",
              "503    1.0   0.0  11.93   0.0  0.573  ...  1.0  273.0     21.0  396.90   5.64\n",
              "504    1.0   0.0  11.93   0.0  0.573  ...  1.0  273.0     21.0  393.45   6.48\n",
              "505    1.0   0.0  11.93   0.0  0.573  ...  1.0  273.0     21.0  396.90   7.88\n",
              "\n",
              "[506 rows x 13 columns]"
            ]
          },
          "metadata": {
            "tags": []
          },
          "execution_count": 22
        }
      ]
    },
    {
      "cell_type": "code",
      "metadata": {
        "id": "XNUXnYPZSe1z",
        "colab": {
          "base_uri": "https://localhost:8080/"
        },
        "outputId": "101da9ed-9701-468c-b8fb-3490db9cabe8"
      },
      "source": [
        "model1=sm.OLS(y, X1).fit()\r\n",
        "print(model1.summary())\r\n"
      ],
      "execution_count": null,
      "outputs": [
        {
          "output_type": "stream",
          "text": [
            "                            OLS Regression Results                            \n",
            "==============================================================================\n",
            "Dep. Variable:                    TAX   R-squared:                       1.000\n",
            "Model:                            OLS   Adj. R-squared:                  1.000\n",
            "Method:                 Least Squares   F-statistic:                 2.745e+30\n",
            "Date:                Wed, 20 Jan 2021   Prob (F-statistic):               0.00\n",
            "Time:                        20:59:23   Log-Likelihood:                 13480.\n",
            "No. Observations:                 506   AIC:                        -2.693e+04\n",
            "Df Residuals:                     493   BIC:                        -2.688e+04\n",
            "Df Model:                          12                                         \n",
            "Covariance Type:            nonrobust                                         \n",
            "==============================================================================\n",
            "                 coef    std err          t      P>|t|      [0.025      0.975]\n",
            "------------------------------------------------------------------------------\n",
            "const       3.268e-13   7.08e-13      0.461      0.645   -1.06e-12    1.72e-12\n",
            "ZN          1.603e-15    1.9e-15      0.843      0.400   -2.13e-15    5.34e-15\n",
            "INDUS      -1.353e-14   8.55e-15     -1.583      0.114   -3.03e-14    3.26e-15\n",
            "CHAS        1.021e-13    1.2e-13      0.854      0.394   -1.33e-13    3.37e-13\n",
            "NOX         8.367e-13    5.3e-13      1.578      0.115   -2.05e-13    1.88e-12\n",
            "RM         -9.381e-15   5.81e-14     -0.161      0.872   -1.24e-13    1.05e-13\n",
            "AGE         3.469e-16   1.84e-15      0.189      0.850   -3.26e-15    3.96e-15\n",
            "DIS        -7.772e-16   2.75e-14     -0.028      0.978   -5.49e-14    5.34e-14\n",
            "RAD        -9.381e-15   8.89e-15     -1.055      0.292   -2.69e-14    8.09e-15\n",
            "TAX            1.0000   5.23e-16   1.91e+15      0.000       1.000       1.000\n",
            "PTRATIO    -2.642e-14   1.82e-14     -1.453      0.147   -6.22e-14    9.32e-15\n",
            "B           7.988e-16   3.71e-16      2.153      0.032       7e-17    1.53e-15\n",
            "LSTAT       2.609e-15   6.97e-15      0.374      0.708   -1.11e-14    1.63e-14\n",
            "==============================================================================\n",
            "Omnibus:                        6.559   Durbin-Watson:                   0.023\n",
            "Prob(Omnibus):                  0.038   Jarque-Bera (JB):                9.055\n",
            "Skew:                           0.071   Prob(JB):                       0.0108\n",
            "Kurtosis:                       3.640   Cond. No.                     1.51e+04\n",
            "==============================================================================\n",
            "\n",
            "Warnings:\n",
            "[1] Standard Errors assume that the covariance matrix of the errors is correctly specified.\n",
            "[2] The condition number is large, 1.51e+04. This might indicate that there are\n",
            "strong multicollinearity or other numerical problems.\n"
          ],
          "name": "stdout"
        }
      ]
    },
    {
      "cell_type": "markdown",
      "metadata": {
        "id": "3OGwdPWsQ1f7"
      },
      "source": [
        "Multiple regression (two features dependence) "
      ]
    },
    {
      "cell_type": "code",
      "metadata": {
        "colab": {
          "base_uri": "https://localhost:8080/"
        },
        "id": "W2n97hquO1fJ",
        "outputId": "d7ae90e9-74b0-4e4a-d0a6-981e0f552dcf"
      },
      "source": [
        "model2=smf.ols(\"CRIM ~ RAD + TAX\", df).fit()\r\n",
        "print(model2.summary())"
      ],
      "execution_count": null,
      "outputs": [
        {
          "output_type": "stream",
          "text": [
            "                            OLS Regression Results                            \n",
            "==============================================================================\n",
            "Dep. Variable:                   CRIM   R-squared:                       0.392\n",
            "Model:                            OLS   Adj. R-squared:                  0.390\n",
            "Method:                 Least Squares   F-statistic:                     162.4\n",
            "Date:                Wed, 20 Jan 2021   Prob (F-statistic):           3.95e-55\n",
            "Time:                        20:59:24   Log-Likelihood:                -1680.3\n",
            "No. Observations:                 506   AIC:                             3367.\n",
            "Df Residuals:                     503   BIC:                             3379.\n",
            "Df Model:                           2                                         \n",
            "Covariance Type:            nonrobust                                         \n",
            "==============================================================================\n",
            "                 coef    std err          t      P>|t|      [0.025      0.975]\n",
            "------------------------------------------------------------------------------\n",
            "Intercept     -3.2451      1.120     -2.898      0.004      -5.445      -1.045\n",
            "RAD            0.5476      0.083      6.604      0.000       0.385       0.710\n",
            "TAX            0.0040      0.004      0.932      0.352      -0.004       0.012\n",
            "==============================================================================\n",
            "Omnibus:                      657.189   Durbin-Watson:                   1.338\n",
            "Prob(Omnibus):                  0.000   Jarque-Bera (JB):            75830.637\n",
            "Skew:                           6.489   Prob(JB):                         0.00\n",
            "Kurtosis:                      61.552   Cond. No.                     1.66e+03\n",
            "==============================================================================\n",
            "\n",
            "Warnings:\n",
            "[1] Standard Errors assume that the covariance matrix of the errors is correctly specified.\n",
            "[2] The condition number is large, 1.66e+03. This might indicate that there are\n",
            "strong multicollinearity or other numerical problems.\n"
          ],
          "name": "stdout"
        }
      ]
    },
    {
      "cell_type": "code",
      "metadata": {
        "colab": {
          "base_uri": "https://localhost:8080/"
        },
        "id": "i9BFqj6WRTHo",
        "outputId": "c91aa375-578d-4c8f-c0b3-53be74636be2"
      },
      "source": [
        "model2=smf.ols(\"CRIM ~ RAD * TAX\", df).fit()\r\n",
        "print(model2.summary())"
      ],
      "execution_count": null,
      "outputs": [
        {
          "output_type": "stream",
          "text": [
            "                            OLS Regression Results                            \n",
            "==============================================================================\n",
            "Dep. Variable:                   CRIM   R-squared:                       0.400\n",
            "Model:                            OLS   Adj. R-squared:                  0.397\n",
            "Method:                 Least Squares   F-statistic:                     111.7\n",
            "Date:                Wed, 20 Jan 2021   Prob (F-statistic):           2.14e-55\n",
            "Time:                        20:59:24   Log-Likelihood:                -1677.0\n",
            "No. Observations:                 506   AIC:                             3362.\n",
            "Df Residuals:                     502   BIC:                             3379.\n",
            "Df Model:                           3                                         \n",
            "Covariance Type:            nonrobust                                         \n",
            "==============================================================================\n",
            "                 coef    std err          t      P>|t|      [0.025      0.975]\n",
            "------------------------------------------------------------------------------\n",
            "Intercept      1.3419      2.101      0.639      0.523      -2.786       5.470\n",
            "RAD           -0.4057      0.379     -1.069      0.285      -1.151       0.340\n",
            "TAX           -0.0041      0.005     -0.772      0.440      -0.014       0.006\n",
            "RAD:TAX        0.0015      0.001      2.574      0.010       0.000       0.003\n",
            "==============================================================================\n",
            "Omnibus:                      659.951   Durbin-Watson:                   1.350\n",
            "Prob(Omnibus):                  0.000   Jarque-Bera (JB):            77950.052\n",
            "Skew:                           6.529   Prob(JB):                         0.00\n",
            "Kurtosis:                      62.386   Cond. No.                     5.91e+04\n",
            "==============================================================================\n",
            "\n",
            "Warnings:\n",
            "[1] Standard Errors assume that the covariance matrix of the errors is correctly specified.\n",
            "[2] The condition number is large, 5.91e+04. This might indicate that there are\n",
            "strong multicollinearity or other numerical problems.\n"
          ],
          "name": "stdout"
        }
      ]
    },
    {
      "cell_type": "markdown",
      "metadata": {
        "id": "40zcuEasRkTX"
      },
      "source": [
        "Polynomial regression"
      ]
    },
    {
      "cell_type": "code",
      "metadata": {
        "colab": {
          "base_uri": "https://localhost:8080/"
        },
        "id": "LB-GB8NuRZtA",
        "outputId": "4d042a93-ed84-456d-94eb-72f82f7b78c0"
      },
      "source": [
        "Result_pol= smf.ols('y ~ X+I(X**2)+I(X**3)', ds).fit()\r\n",
        "\r\n",
        "print(Result_pol.summary())"
      ],
      "execution_count": null,
      "outputs": [
        {
          "output_type": "stream",
          "text": [
            "                            OLS Regression Results                            \n",
            "==============================================================================\n",
            "Dep. Variable:                      y   R-squared:                       0.839\n",
            "Model:                            OLS   Adj. R-squared:                  0.838\n",
            "Method:                 Least Squares   F-statistic:                     869.1\n",
            "Date:                Wed, 20 Jan 2021   Prob (F-statistic):          2.72e-198\n",
            "Time:                        20:59:24   Log-Likelihood:                -2850.5\n",
            "No. Observations:                 506   AIC:                             5709.\n",
            "Df Residuals:                     502   BIC:                             5726.\n",
            "Df Model:                           3                                         \n",
            "Covariance Type:            nonrobust                                         \n",
            "==============================================================================\n",
            "                 coef    std err          t      P>|t|      [0.025      0.975]\n",
            "------------------------------------------------------------------------------\n",
            "Intercept    198.9798     20.838      9.549      0.000     158.039     239.920\n",
            "X             53.3114     10.608      5.026      0.000      32.471      74.152\n",
            "I(X ** 2)     -6.4561      1.510     -4.276      0.000      -9.423      -3.490\n",
            "I(X ** 3)      0.2102      0.046      4.532      0.000       0.119       0.301\n",
            "==============================================================================\n",
            "Omnibus:                      241.192   Durbin-Watson:                   0.413\n",
            "Prob(Omnibus):                  0.000   Jarque-Bera (JB):             2035.149\n",
            "Skew:                           1.888   Prob(JB):                         0.00\n",
            "Kurtosis:                      12.070   Cond. No.                     5.43e+04\n",
            "==============================================================================\n",
            "\n",
            "Warnings:\n",
            "[1] Standard Errors assume that the covariance matrix of the errors is correctly specified.\n",
            "[2] The condition number is large, 5.43e+04. This might indicate that there are\n",
            "strong multicollinearity or other numerical problems.\n"
          ],
          "name": "stdout"
        }
      ]
    },
    {
      "cell_type": "markdown",
      "metadata": {
        "id": "AnTGHlJjSTzQ"
      },
      "source": [
        "Unconditional & Conditional Probabilities"
      ]
    },
    {
      "cell_type": "markdown",
      "metadata": {
        "id": "gfThLPwpZ0Kz"
      },
      "source": [
        "unconditional"
      ]
    },
    {
      "cell_type": "code",
      "metadata": {
        "id": "h2j9zqi3RexA"
      },
      "source": [
        "att = ['TAX','CRIM']\r\n",
        "data = df[att]\r\n",
        "data.head()"
      ],
      "execution_count": null,
      "outputs": []
    },
    {
      "cell_type": "code",
      "metadata": {
        "id": "-B8eOaz_Reuo"
      },
      "source": [
        "data.shape"
      ],
      "execution_count": null,
      "outputs": []
    },
    {
      "cell_type": "code",
      "metadata": {
        "id": "VfNv-NoBResf"
      },
      "source": [
        "dataTemp=data['TAX'].value_counts()\r\n",
        "dataTemp"
      ],
      "execution_count": null,
      "outputs": []
    },
    {
      "cell_type": "code",
      "metadata": {
        "id": "1lmfudNlReqK"
      },
      "source": [
        "print(dataTemp.sum())\r\n",
        "data.index"
      ],
      "execution_count": null,
      "outputs": []
    },
    {
      "cell_type": "code",
      "metadata": {
        "id": "DerMxTCORene"
      },
      "source": [
        "dataTemp.index"
      ],
      "execution_count": null,
      "outputs": []
    },
    {
      "cell_type": "code",
      "metadata": {
        "id": "Egyr63qCRelF"
      },
      "source": [
        "P_tax=pd.DataFrame((dataTemp/dataTemp.sum()).sort_index())\r\n",
        "P_tax.columns=[\"Probability\"]"
      ],
      "execution_count": null,
      "outputs": []
    },
    {
      "cell_type": "code",
      "metadata": {
        "id": "_qXRljHPRejS"
      },
      "source": [
        "P_tax.plot.bar()\r\n",
        "plt.ylabel(\"Probability\")\r\n",
        "plt.xlabel(\"Tax per 10,000$\")\r\n",
        "print(P_tax)"
      ],
      "execution_count": null,
      "outputs": []
    },
    {
      "cell_type": "code",
      "metadata": {
        "id": "OxeoG5PcRegg"
      },
      "source": [
        "print(data[\"CRIM\"].values.max())\r\n",
        "print(data[\"CRIM\"].values.min())"
      ],
      "execution_count": null,
      "outputs": []
    },
    {
      "cell_type": "code",
      "metadata": {
        "id": "nwuOrqkEReee"
      },
      "source": [
        "dataTemp=(data[\"CRIM\"]>=45).value_counts()\r\n",
        "dataTemp"
      ],
      "execution_count": null,
      "outputs": []
    },
    {
      "cell_type": "code",
      "metadata": {
        "id": "co9E_vhXReb5"
      },
      "source": [
        "dataTemp=(data[\"CRIM\"]>=15).value_counts()\r\n",
        "P_high=pd.DataFrame(dataTemp/dataTemp.sum())\r\n",
        "P_high.index=[\"Low\",\"High\"]\r\n",
        "P_high.columns=[\"Probability\"]\r\n",
        "\r\n",
        "print(P_high)\r\n",
        "P_high.plot.bar()\r\n",
        "plt.xlabel(\"Crime rate\")\r\n",
        "plt.ylabel(\"Probability\")"
      ],
      "execution_count": null,
      "outputs": []
    },
    {
      "cell_type": "code",
      "metadata": {
        "id": "qm61Hz46ReXi"
      },
      "source": [
        "dataTemp=data[data[\"CRIM\"]>=45][\"TAX\"]\r\n",
        "print(dataTemp)"
      ],
      "execution_count": null,
      "outputs": []
    },
    {
      "cell_type": "code",
      "metadata": {
        "id": "9WC_RrxNU48v"
      },
      "source": [
        "dataTemp1=data['TAX'].value_counts().sort_index()\r\n",
        "dataTemp1"
      ],
      "execution_count": null,
      "outputs": []
    },
    {
      "cell_type": "code",
      "metadata": {
        "id": "iOdCdQl1ReJY"
      },
      "source": [
        "dataTemp2 = dataTemp.value_counts().sort_index()\r\n",
        "dataTemp2"
      ],
      "execution_count": null,
      "outputs": []
    },
    {
      "cell_type": "markdown",
      "metadata": {
        "id": "xQE8YFawX-Uy"
      },
      "source": [
        "uncodnitional"
      ]
    },
    {
      "cell_type": "code",
      "metadata": {
        "colab": {
          "base_uri": "https://localhost:8080/"
        },
        "id": "4fUbuMmESE44",
        "outputId": "61b08a2c-0003-4c9b-d7bb-b4bb02bd1df6"
      },
      "source": [
        "temp=df.TAX.value_counts().sort_index()\r\n",
        "temp"
      ],
      "execution_count": null,
      "outputs": [
        {
          "output_type": "execute_result",
          "data": {
            "text/plain": [
              "187.0      1\n",
              "188.0      7\n",
              "193.0      8\n",
              "198.0      1\n",
              "216.0      5\n",
              "        ... \n",
              "432.0      9\n",
              "437.0     15\n",
              "469.0      1\n",
              "666.0    132\n",
              "711.0      5\n",
              "Name: TAX, Length: 66, dtype: int64"
            ]
          },
          "metadata": {
            "tags": []
          },
          "execution_count": 27
        }
      ]
    },
    {
      "cell_type": "code",
      "metadata": {
        "colab": {
          "base_uri": "https://localhost:8080/",
          "height": 590
        },
        "id": "qBUQNfxBUIRC",
        "outputId": "598ab82c-18e2-4059-8543-c0fdb09b74a2"
      },
      "source": [
        "P_crime=pd.DataFrame((temp/temp.sum()).sort_index())\r\n",
        "P_crime.columns=['Probability']\r\n",
        "\r\n",
        "P_crime.plot.bar(fontsize=5)\r\n",
        "plt.ylabel('Probability', fontsize=20)\r\n",
        "plt.xlabel('Crime rate')\r\n",
        "print(P_crime)\r\n",
        "print(P_crime.sum())\r\n",
        "print(P_crime.max())\r\n"
      ],
      "execution_count": null,
      "outputs": [
        {
          "output_type": "stream",
          "text": [
            "       Probability\n",
            "187.0     0.001976\n",
            "188.0     0.013834\n",
            "193.0     0.015810\n",
            "198.0     0.001976\n",
            "216.0     0.009881\n",
            "...            ...\n",
            "432.0     0.017787\n",
            "437.0     0.029644\n",
            "469.0     0.001976\n",
            "666.0     0.260870\n",
            "711.0     0.009881\n",
            "\n",
            "[66 rows x 1 columns]\n",
            "Probability    1.0\n",
            "dtype: float64\n",
            "Probability    0.26087\n",
            "dtype: float64\n"
          ],
          "name": "stdout"
        },
        {
          "output_type": "display_data",
          "data": {
            "image/png": "[encoded data removed]",
            "text/plain": [
              "<Figure size 432x288 with 1 Axes>"
            ]
          },
          "metadata": {
            "tags": [],
            "needs_background": "light"
          }
        }
      ]
    },
    {
      "cell_type": "markdown",
      "metadata": {
        "id": "OHlKpJtHWfbJ"
      },
      "source": [
        "conditional prob"
      ]
    },
    {
      "cell_type": "code",
      "metadata": {
        "colab": {
          "base_uri": "https://localhost:8080/"
        },
        "id": "7mXUdahiWg0J",
        "outputId": "e30a881a-71a6-4a58-ca24-608a0603e196"
      },
      "source": [
        "df.RM.unique()"
      ],
      "execution_count": null,
      "outputs": [
        {
          "output_type": "execute_result",
          "data": {
            "text/plain": [
              "array([6.575, 6.421, 7.185, 6.998, 7.147, 6.43 , 6.012, 6.172, 5.631,\n",
              "       6.004, 6.377, 6.009, 5.889, 5.949, 6.096, 5.834, 5.935, 5.99 ,\n",
              "       5.456, 5.727, 5.57 , 5.965, 6.142, 5.813, 5.924, 5.599, 6.047,\n",
              "       6.495, 6.674, 5.713, 6.072, 5.95 , 5.701, 5.933, 5.841, 5.85 ,\n",
              "       5.966, 6.595, 7.024, 6.77 , 6.169, 6.211, 6.069, 5.682, 5.786,\n",
              "       6.03 , 5.399, 5.602, 5.963, 6.115, 6.511, 5.998, 5.888, 7.249,\n",
              "       6.383, 6.816, 6.145, 5.927, 5.741, 6.456, 6.762, 7.104, 6.29 ,\n",
              "       5.787, 5.878, 5.594, 5.885, 6.417, 5.961, 6.065, 6.245, 6.273,\n",
              "       6.286, 6.279, 6.14 , 6.232, 5.874, 6.727, 6.619, 6.302, 6.167,\n",
              "       6.389, 6.63 , 6.015, 6.121, 7.007, 7.079, 6.405, 6.442, 6.249,\n",
              "       6.625, 6.163, 8.069, 7.82 , 7.416, 6.781, 6.137, 5.851, 5.836,\n",
              "       6.127, 6.474, 6.229, 6.195, 6.715, 5.913, 6.092, 6.254, 5.928,\n",
              "       6.176, 6.021, 5.872, 5.731, 5.87 , 5.856, 5.879, 5.986, 5.613,\n",
              "       5.693, 6.431, 5.637, 6.458, 6.326, 6.372, 5.822, 5.757, 6.335,\n",
              "       5.942, 6.454, 5.857, 6.151, 6.174, 5.019, 5.403, 5.468, 4.903,\n",
              "       6.13 , 5.628, 4.926, 5.186, 5.597, 6.122, 5.404, 5.012, 5.709,\n",
              "       6.129, 6.152, 5.272, 6.943, 6.066, 6.51 , 6.25 , 7.489, 7.802,\n",
              "       8.375, 5.854, 6.101, 7.929, 5.877, 6.319, 6.402, 5.875, 5.88 ,\n",
              "       5.572, 6.416, 5.859, 6.546, 6.02 , 6.315, 6.86 , 6.98 , 7.765,\n",
              "       6.144, 7.155, 6.563, 5.604, 6.153, 7.831, 6.782, 6.556, 6.951,\n",
              "       6.739, 7.178, 6.8  , 6.604, 7.875, 7.287, 7.107, 7.274, 6.975,\n",
              "       7.135, 6.162, 7.61 , 7.853, 8.034, 5.891, 5.783, 6.064, 5.344,\n",
              "       5.96 , 5.807, 6.375, 5.412, 6.182, 6.642, 5.951, 6.373, 6.164,\n",
              "       6.879, 6.618, 8.266, 8.725, 8.04 , 7.163, 7.686, 6.552, 5.981,\n",
              "       7.412, 8.337, 8.247, 6.726, 6.086, 6.631, 7.358, 6.481, 6.606,\n",
              "       6.897, 6.095, 6.358, 6.393, 5.593, 5.605, 6.108, 6.226, 6.433,\n",
              "       6.718, 6.487, 6.438, 6.957, 8.259, 5.876, 7.454, 8.704, 7.333,\n",
              "       6.842, 7.203, 7.52 , 8.398, 7.327, 7.206, 5.56 , 7.014, 8.297,\n",
              "       7.47 , 5.92 , 6.24 , 6.538, 7.691, 6.758, 6.854, 7.267, 6.826,\n",
              "       6.482, 6.812, 6.968, 7.645, 7.923, 7.088, 6.453, 6.23 , 6.209,\n",
              "       6.565, 6.861, 7.148, 6.678, 6.549, 5.79 , 6.345, 7.041, 6.871,\n",
              "       6.59 , 6.982, 7.236, 6.616, 7.42 , 6.849, 6.635, 5.972, 4.973,\n",
              "       6.023, 6.266, 6.567, 5.705, 5.914, 5.782, 6.382, 6.113, 6.426,\n",
              "       6.376, 6.041, 5.708, 6.415, 6.312, 6.083, 5.868, 6.333, 5.706,\n",
              "       6.031, 6.316, 6.31 , 6.037, 5.869, 5.895, 6.059, 5.985, 5.968,\n",
              "       7.241, 6.54 , 6.696, 6.874, 6.014, 5.898, 6.516, 6.939, 6.49 ,\n",
              "       6.579, 5.884, 6.728, 5.663, 5.936, 6.212, 6.395, 6.112, 6.398,\n",
              "       6.251, 5.362, 5.803, 8.78 , 3.561, 4.963, 3.863, 4.97 , 6.683,\n",
              "       7.016, 6.216, 4.906, 4.138, 7.313, 6.649, 6.794, 6.38 , 6.223,\n",
              "       6.545, 5.536, 5.52 , 4.368, 5.277, 4.652, 5.   , 4.88 , 5.39 ,\n",
              "       6.051, 5.036, 6.193, 5.887, 6.471, 5.747, 5.453, 5.852, 5.987,\n",
              "       6.343, 6.404, 5.349, 5.531, 5.683, 5.608, 5.617, 6.852, 6.657,\n",
              "       4.628, 5.155, 4.519, 6.434, 5.304, 5.957, 6.824, 6.411, 6.006,\n",
              "       5.648, 6.103, 5.565, 5.896, 5.837, 6.202, 6.348, 6.833, 6.425,\n",
              "       6.436, 6.208, 6.629, 6.461, 5.627, 5.818, 6.406, 6.219, 6.485,\n",
              "       6.459, 6.341, 6.185, 6.749, 6.655, 6.297, 7.393, 6.525, 5.976,\n",
              "       6.301, 6.081, 6.701, 6.317, 6.513, 5.759, 5.952, 6.003, 5.926,\n",
              "       6.437, 5.427, 6.484, 6.242, 6.75 , 7.061, 5.762, 5.871, 6.114,\n",
              "       5.905, 5.454, 5.414, 5.093, 5.983, 5.707, 5.67 , 5.794, 6.019,\n",
              "       5.569, 6.027, 6.593, 6.12 , 6.976])"
            ]
          },
          "metadata": {
            "tags": []
          },
          "execution_count": 29
        }
      ]
    },
    {
      "cell_type": "code",
      "metadata": {
        "colab": {
          "base_uri": "https://localhost:8080/"
        },
        "id": "gELnbAzoXKGQ",
        "outputId": "e9e5ec53-fd1c-4610-98d8-8d2212eebdac"
      },
      "source": [
        "data_temp=(df.RM<6).value_counts()\r\n",
        "data_temp"
      ],
      "execution_count": null,
      "outputs": [
        {
          "output_type": "execute_result",
          "data": {
            "text/plain": [
              "False    333\n",
              "True     173\n",
              "Name: RM, dtype: int64"
            ]
          },
          "metadata": {
            "tags": []
          },
          "execution_count": 30
        }
      ]
    },
    {
      "cell_type": "code",
      "metadata": {
        "colab": {
          "base_uri": "https://localhost:8080/"
        },
        "id": "tIScytGQXYVo",
        "outputId": "3932b6b7-af26-4a25-b86e-53eaba31525d"
      },
      "source": [
        "data_temp1=((df.RM>=6)&(df.RM<=7)).value_counts()\r\n",
        "data_temp1"
      ],
      "execution_count": null,
      "outputs": [
        {
          "output_type": "execute_result",
          "data": {
            "text/plain": [
              "True     269\n",
              "False    237\n",
              "Name: RM, dtype: int64"
            ]
          },
          "metadata": {
            "tags": []
          },
          "execution_count": 31
        }
      ]
    },
    {
      "cell_type": "code",
      "metadata": {
        "colab": {
          "base_uri": "https://localhost:8080/"
        },
        "id": "uMAYIZI2XplD",
        "outputId": "5b624ffe-046e-4210-d9a5-9ce77375c355"
      },
      "source": [
        "data_temp2=(df.RM>7).value_counts()\r\n",
        "data_temp2"
      ],
      "execution_count": null,
      "outputs": [
        {
          "output_type": "execute_result",
          "data": {
            "text/plain": [
              "False    442\n",
              "True      64\n",
              "Name: RM, dtype: int64"
            ]
          },
          "metadata": {
            "tags": []
          },
          "execution_count": 32
        }
      ]
    },
    {
      "cell_type": "code",
      "metadata": {
        "colab": {
          "base_uri": "https://localhost:8080/",
          "height": 467
        },
        "id": "Fgt3czxwXxAr",
        "outputId": "e99ae19a-af65-475c-e21a-ab915abd1868"
      },
      "source": [
        "P_rm = pd.DataFrame([data_temp[True], data_temp1[True], data_temp2[True]])/len(df)\r\n",
        "P_rm.index = [\"<6\",\"6<= <=7\",\">7\"]\r\n",
        "P_rm.columns = [\"Probability\"]\r\n",
        "\r\n",
        "P_rm.plot.bar(fontsize=12)\r\n",
        "plt.ylabel(\"Probability\",fontsize=12)\r\n",
        "plt.xlabel(\"rm\",fontsize=12)\r\n",
        "plt.show()\r\n",
        "print(P_rm)\r\n",
        "print(P_rm.sum())\r\n",
        "print(P_rm.max())"
      ],
      "execution_count": null,
      "outputs": [
        {
          "output_type": "display_data",
          "data": {
            "image/png": "[encoded data removed]",
            "text/plain": [
              "<Figure size 432x288 with 1 Axes>"
            ]
          },
          "metadata": {
            "tags": [],
            "needs_background": "light"
          }
        },
        {
          "output_type": "stream",
          "text": [
            "         Probability\n",
            "<6          0.341897\n",
            "6<= <=7     0.531621\n",
            ">7          0.126482\n",
            "Probability    1.0\n",
            "dtype: float64\n",
            "Probability    0.531621\n",
            "dtype: float64\n"
          ],
          "name": "stdout"
        }
      ]
    },
    {
      "cell_type": "code",
      "metadata": {
        "colab": {
          "base_uri": "https://localhost:8080/"
        },
        "id": "RDt05ChpYKKg",
        "outputId": "4731b732-4fb0-4964-8b18-217119bd6f65"
      },
      "source": [
        "data_temp3 = ((df.RM>=6) & (df.RM<=7) & (df.TAX<=469)).value_counts()\r\n",
        "data_temp3"
      ],
      "execution_count": null,
      "outputs": [
        {
          "output_type": "execute_result",
          "data": {
            "text/plain": [
              "False    309\n",
              "True     197\n",
              "dtype: int64"
            ]
          },
          "metadata": {
            "tags": []
          },
          "execution_count": 34
        }
      ]
    },
    {
      "cell_type": "code",
      "metadata": {
        "colab": {
          "base_uri": "https://localhost:8080/"
        },
        "id": "O-Q6qZ0xYXuu",
        "outputId": "51be49f9-fa4c-46ed-8ae2-db15af314e4c"
      },
      "source": [
        "len(data_temp1)"
      ],
      "execution_count": null,
      "outputs": [
        {
          "output_type": "execute_result",
          "data": {
            "text/plain": [
              "2"
            ]
          },
          "metadata": {
            "tags": []
          },
          "execution_count": 35
        }
      ]
    },
    {
      "cell_type": "code",
      "metadata": {
        "colab": {
          "base_uri": "https://localhost:8080/",
          "height": 415
        },
        "id": "Y2Tdu6HSYZ-a",
        "outputId": "3dc611e4-9663-4910-97db-8448ac03c325"
      },
      "source": [
        "P_rm_tax = pd.DataFrame([data_temp3[True]])/(data_temp1[True])\r\n",
        "P_rm_tax.columns = [\"Probability\"]\r\n",
        "\r\n",
        "P_rm_tax.plot.bar(fontsize=12)\r\n",
        "plt.title(\"Mid tax rates with 7 room flats\")\r\n",
        "plt.ylabel(\"Probability\",fontsize=12)\r\n",
        "plt.xlabel(\"6<= num of rooms <=7 & tax>=469\",fontsize=12)\r\n",
        "plt.show()\r\n",
        "print(P_rm_tax)\r\n",
        "print(P_rm_tax.sum())\r\n",
        "print((df.TAX<=469).value_counts())"
      ],
      "execution_count": null,
      "outputs": [
        {
          "output_type": "display_data",
          "data": {
            "image/png": "[encoded data removed]",
            "text/plain": [
              "<Figure size 432x288 with 1 Axes>"
            ]
          },
          "metadata": {
            "tags": [],
            "needs_background": "light"
          }
        },
        {
          "output_type": "stream",
          "text": [
            "   Probability\n",
            "0     0.732342\n",
            "Probability    0.732342\n",
            "dtype: float64\n",
            "True     369\n",
            "False    137\n",
            "Name: TAX, dtype: int64\n"
          ],
          "name": "stdout"
        }
      ]
    },
    {
      "cell_type": "markdown",
      "metadata": {
        "id": "WVwaxBMzSX5F"
      },
      "source": [
        "Parameters of ditribution of single variables\r\n"
      ]
    },
    {
      "cell_type": "code",
      "metadata": {
        "colab": {
          "base_uri": "https://localhost:8080/",
          "height": 297
        },
        "id": "d6ZcfJSJScZX",
        "outputId": "d690e83d-6e5a-4127-989d-d2f2bd0fd8a4"
      },
      "source": [
        "df.describe()"
      ],
      "execution_count": null,
      "outputs": [
        {
          "output_type": "execute_result",
          "data": {
            "text/html": [
              "<div>\n",
              "<style scoped>\n",
              "    .dataframe tbody tr th:only-of-type {\n",
              "        vertical-align: middle;\n",
              "    }\n",
              "\n",
              "    .dataframe tbody tr th {\n",
              "        vertical-align: top;\n",
              "    }\n",
              "\n",
              "    .dataframe thead th {\n",
              "        text-align: right;\n",
              "    }\n",
              "</style>\n",
              "<table border=\"1\" class=\"dataframe\">\n",
              "  <thead>\n",
              "    <tr style=\"text-align: right;\">\n",
              "      <th></th>\n",
              "      <th>CRIM</th>\n",
              "      <th>ZN</th>\n",
              "      <th>INDUS</th>\n",
              "      <th>CHAS</th>\n",
              "      <th>NOX</th>\n",
              "      <th>RM</th>\n",
              "      <th>AGE</th>\n",
              "      <th>DIS</th>\n",
              "      <th>RAD</th>\n",
              "      <th>TAX</th>\n",
              "      <th>PTRATIO</th>\n",
              "      <th>B</th>\n",
              "      <th>LSTAT</th>\n",
              "    </tr>\n",
              "  </thead>\n",
              "  <tbody>\n",
              "    <tr>\n",
              "      <th>count</th>\n",
              "      <td>506.000000</td>\n",
              "      <td>506.000000</td>\n",
              "      <td>506.000000</td>\n",
              "      <td>506.000000</td>\n",
              "      <td>506.000000</td>\n",
              "      <td>506.000000</td>\n",
              "      <td>506.000000</td>\n",
              "      <td>506.000000</td>\n",
              "      <td>506.000000</td>\n",
              "      <td>506.000000</td>\n",
              "      <td>506.000000</td>\n",
              "      <td>506.000000</td>\n",
              "      <td>506.000000</td>\n",
              "    </tr>\n",
              "    <tr>\n",
              "      <th>mean</th>\n",
              "      <td>3.613524</td>\n",
              "      <td>11.363636</td>\n",
              "      <td>11.136779</td>\n",
              "      <td>0.069170</td>\n",
              "      <td>0.554695</td>\n",
              "      <td>6.284634</td>\n",
              "      <td>68.574901</td>\n",
              "      <td>3.795043</td>\n",
              "      <td>9.549407</td>\n",
              "      <td>408.237154</td>\n",
              "      <td>18.455534</td>\n",
              "      <td>356.674032</td>\n",
              "      <td>12.653063</td>\n",
              "    </tr>\n",
              "    <tr>\n",
              "      <th>std</th>\n",
              "      <td>8.601545</td>\n",
              "      <td>23.322453</td>\n",
              "      <td>6.860353</td>\n",
              "      <td>0.253994</td>\n",
              "      <td>0.115878</td>\n",
              "      <td>0.702617</td>\n",
              "      <td>28.148861</td>\n",
              "      <td>2.105710</td>\n",
              "      <td>8.707259</td>\n",
              "      <td>168.537116</td>\n",
              "      <td>2.164946</td>\n",
              "      <td>91.294864</td>\n",
              "      <td>7.141062</td>\n",
              "    </tr>\n",
              "    <tr>\n",
              "      <th>min</th>\n",
              "      <td>0.006320</td>\n",
              "      <td>0.000000</td>\n",
              "      <td>0.460000</td>\n",
              "      <td>0.000000</td>\n",
              "      <td>0.385000</td>\n",
              "      <td>3.561000</td>\n",
              "      <td>2.900000</td>\n",
              "      <td>1.129600</td>\n",
              "      <td>1.000000</td>\n",
              "      <td>187.000000</td>\n",
              "      <td>12.600000</td>\n",
              "      <td>0.320000</td>\n",
              "      <td>1.730000</td>\n",
              "    </tr>\n",
              "    <tr>\n",
              "      <th>25%</th>\n",
              "      <td>0.082045</td>\n",
              "      <td>0.000000</td>\n",
              "      <td>5.190000</td>\n",
              "      <td>0.000000</td>\n",
              "      <td>0.449000</td>\n",
              "      <td>5.885500</td>\n",
              "      <td>45.025000</td>\n",
              "      <td>2.100175</td>\n",
              "      <td>4.000000</td>\n",
              "      <td>279.000000</td>\n",
              "      <td>17.400000</td>\n",
              "      <td>375.377500</td>\n",
              "      <td>6.950000</td>\n",
              "    </tr>\n",
              "    <tr>\n",
              "      <th>50%</th>\n",
              "      <td>0.256510</td>\n",
              "      <td>0.000000</td>\n",
              "      <td>9.690000</td>\n",
              "      <td>0.000000</td>\n",
              "      <td>0.538000</td>\n",
              "      <td>6.208500</td>\n",
              "      <td>77.500000</td>\n",
              "      <td>3.207450</td>\n",
              "      <td>5.000000</td>\n",
              "      <td>330.000000</td>\n",
              "      <td>19.050000</td>\n",
              "      <td>391.440000</td>\n",
              "      <td>11.360000</td>\n",
              "    </tr>\n",
              "    <tr>\n",
              "      <th>75%</th>\n",
              "      <td>3.677083</td>\n",
              "      <td>12.500000</td>\n",
              "      <td>18.100000</td>\n",
              "      <td>0.000000</td>\n",
              "      <td>0.624000</td>\n",
              "      <td>6.623500</td>\n",
              "      <td>94.075000</td>\n",
              "      <td>5.188425</td>\n",
              "      <td>24.000000</td>\n",
              "      <td>666.000000</td>\n",
              "      <td>20.200000</td>\n",
              "      <td>396.225000</td>\n",
              "      <td>16.955000</td>\n",
              "    </tr>\n",
              "    <tr>\n",
              "      <th>max</th>\n",
              "      <td>88.976200</td>\n",
              "      <td>100.000000</td>\n",
              "      <td>27.740000</td>\n",
              "      <td>1.000000</td>\n",
              "      <td>0.871000</td>\n",
              "      <td>8.780000</td>\n",
              "      <td>100.000000</td>\n",
              "      <td>12.126500</td>\n",
              "      <td>24.000000</td>\n",
              "      <td>711.000000</td>\n",
              "      <td>22.000000</td>\n",
              "      <td>396.900000</td>\n",
              "      <td>37.970000</td>\n",
              "    </tr>\n",
              "  </tbody>\n",
              "</table>\n",
              "</div>"
            ],
            "text/plain": [
              "             CRIM          ZN       INDUS  ...     PTRATIO           B       LSTAT\n",
              "count  506.000000  506.000000  506.000000  ...  506.000000  506.000000  506.000000\n",
              "mean     3.613524   11.363636   11.136779  ...   18.455534  356.674032   12.653063\n",
              "std      8.601545   23.322453    6.860353  ...    2.164946   91.294864    7.141062\n",
              "min      0.006320    0.000000    0.460000  ...   12.600000    0.320000    1.730000\n",
              "25%      0.082045    0.000000    5.190000  ...   17.400000  375.377500    6.950000\n",
              "50%      0.256510    0.000000    9.690000  ...   19.050000  391.440000   11.360000\n",
              "75%      3.677083   12.500000   18.100000  ...   20.200000  396.225000   16.955000\n",
              "max     88.976200  100.000000   27.740000  ...   22.000000  396.900000   37.970000\n",
              "\n",
              "[8 rows x 13 columns]"
            ]
          },
          "metadata": {
            "tags": []
          },
          "execution_count": 37
        }
      ]
    },
    {
      "cell_type": "code",
      "metadata": {
        "colab": {
          "base_uri": "https://localhost:8080/"
        },
        "id": "Z_TUM_xRS2kf",
        "outputId": "145cb98d-4418-457e-d1aa-511dffa56eac"
      },
      "source": [
        "df.quantile(0.85)"
      ],
      "execution_count": null,
      "outputs": [
        {
          "output_type": "execute_result",
          "data": {
            "text/plain": [
              "CRIM         8.008307\n",
              "ZN          28.000000\n",
              "INDUS       18.100000\n",
              "CHAS         0.000000\n",
              "NOX          0.693000\n",
              "RM           6.940000\n",
              "AGE         97.300000\n",
              "DIS          6.267675\n",
              "RAD         24.000000\n",
              "TAX        666.000000\n",
              "PTRATIO     20.200000\n",
              "B          396.900000\n",
              "LSTAT       19.805000\n",
              "Name: 0.85, dtype: float64"
            ]
          },
          "metadata": {
            "tags": []
          },
          "execution_count": 38
        }
      ]
    },
    {
      "cell_type": "code",
      "metadata": {
        "colab": {
          "base_uri": "https://localhost:8080/"
        },
        "id": "z9f43kI7S6ce",
        "outputId": "c693892c-4b3a-491a-8a16-d4ad7cc99bb7"
      },
      "source": [
        "df.var()"
      ],
      "execution_count": null,
      "outputs": [
        {
          "output_type": "execute_result",
          "data": {
            "text/plain": [
              "CRIM          73.986578\n",
              "ZN           543.936814\n",
              "INDUS         47.064442\n",
              "CHAS           0.064513\n",
              "NOX            0.013428\n",
              "RM             0.493671\n",
              "AGE          792.358399\n",
              "DIS            4.434015\n",
              "RAD           75.816366\n",
              "TAX        28404.759488\n",
              "PTRATIO        4.686989\n",
              "B           8334.752263\n",
              "LSTAT         50.994760\n",
              "dtype: float64"
            ]
          },
          "metadata": {
            "tags": []
          },
          "execution_count": 39
        }
      ]
    },
    {
      "cell_type": "code",
      "metadata": {
        "colab": {
          "base_uri": "https://localhost:8080/"
        },
        "id": "Lklli8IpTALJ",
        "outputId": "c8275a7a-6ec3-4f7e-f595-80f82a5fc73e"
      },
      "source": [
        "df.std()"
      ],
      "execution_count": null,
      "outputs": [
        {
          "output_type": "execute_result",
          "data": {
            "text/plain": [
              "CRIM         8.601545\n",
              "ZN          23.322453\n",
              "INDUS        6.860353\n",
              "CHAS         0.253994\n",
              "NOX          0.115878\n",
              "RM           0.702617\n",
              "AGE         28.148861\n",
              "DIS          2.105710\n",
              "RAD          8.707259\n",
              "TAX        168.537116\n",
              "PTRATIO      2.164946\n",
              "B           91.294864\n",
              "LSTAT        7.141062\n",
              "dtype: float64"
            ]
          },
          "metadata": {
            "tags": []
          },
          "execution_count": 40
        }
      ]
    },
    {
      "cell_type": "code",
      "metadata": {
        "colab": {
          "base_uri": "https://localhost:8080/"
        },
        "id": "fLj-iONZTHiS",
        "outputId": "ddfd9306-493e-4402-c563-d4fac68f7d81"
      },
      "source": [
        "df.median()"
      ],
      "execution_count": null,
      "outputs": [
        {
          "output_type": "execute_result",
          "data": {
            "text/plain": [
              "CRIM         0.25651\n",
              "ZN           0.00000\n",
              "INDUS        9.69000\n",
              "CHAS         0.00000\n",
              "NOX          0.53800\n",
              "RM           6.20850\n",
              "AGE         77.50000\n",
              "DIS          3.20745\n",
              "RAD          5.00000\n",
              "TAX        330.00000\n",
              "PTRATIO     19.05000\n",
              "B          391.44000\n",
              "LSTAT       11.36000\n",
              "dtype: float64"
            ]
          },
          "metadata": {
            "tags": []
          },
          "execution_count": 41
        }
      ]
    },
    {
      "cell_type": "markdown",
      "metadata": {
        "id": "rZbUY-VJSclu"
      },
      "source": [
        "Parameters of the joint distribution"
      ]
    },
    {
      "cell_type": "code",
      "metadata": {
        "colab": {
          "base_uri": "https://localhost:8080/",
          "height": 452
        },
        "id": "stAcEAzxSfKh",
        "outputId": "f28f36b7-763d-42f4-93e1-e94b397fd75b"
      },
      "source": [
        "#covariance\r\n",
        "df.cov()"
      ],
      "execution_count": null,
      "outputs": [
        {
          "output_type": "execute_result",
          "data": {
            "text/html": [
              "<div>\n",
              "<style scoped>\n",
              "    .dataframe tbody tr th:only-of-type {\n",
              "        vertical-align: middle;\n",
              "    }\n",
              "\n",
              "    .dataframe tbody tr th {\n",
              "        vertical-align: top;\n",
              "    }\n",
              "\n",
              "    .dataframe thead th {\n",
              "        text-align: right;\n",
              "    }\n",
              "</style>\n",
              "<table border=\"1\" class=\"dataframe\">\n",
              "  <thead>\n",
              "    <tr style=\"text-align: right;\">\n",
              "      <th></th>\n",
              "      <th>CRIM</th>\n",
              "      <th>ZN</th>\n",
              "      <th>INDUS</th>\n",
              "      <th>CHAS</th>\n",
              "      <th>NOX</th>\n",
              "      <th>RM</th>\n",
              "      <th>AGE</th>\n",
              "      <th>DIS</th>\n",
              "      <th>RAD</th>\n",
              "      <th>TAX</th>\n",
              "      <th>PTRATIO</th>\n",
              "      <th>B</th>\n",
              "      <th>LSTAT</th>\n",
              "    </tr>\n",
              "  </thead>\n",
              "  <tbody>\n",
              "    <tr>\n",
              "      <th>CRIM</th>\n",
              "      <td>73.986578</td>\n",
              "      <td>-40.215956</td>\n",
              "      <td>23.992339</td>\n",
              "      <td>-0.122109</td>\n",
              "      <td>0.419594</td>\n",
              "      <td>-1.325038</td>\n",
              "      <td>85.405322</td>\n",
              "      <td>-6.876722</td>\n",
              "      <td>46.847761</td>\n",
              "      <td>844.821538</td>\n",
              "      <td>5.399331</td>\n",
              "      <td>-302.381816</td>\n",
              "      <td>27.986168</td>\n",
              "    </tr>\n",
              "    <tr>\n",
              "      <th>ZN</th>\n",
              "      <td>-40.215956</td>\n",
              "      <td>543.936814</td>\n",
              "      <td>-85.412648</td>\n",
              "      <td>-0.252925</td>\n",
              "      <td>-1.396148</td>\n",
              "      <td>5.112513</td>\n",
              "      <td>-373.901548</td>\n",
              "      <td>32.629304</td>\n",
              "      <td>-63.348695</td>\n",
              "      <td>-1236.453735</td>\n",
              "      <td>-19.776571</td>\n",
              "      <td>373.721402</td>\n",
              "      <td>-68.783037</td>\n",
              "    </tr>\n",
              "    <tr>\n",
              "      <th>INDUS</th>\n",
              "      <td>23.992339</td>\n",
              "      <td>-85.412648</td>\n",
              "      <td>47.064442</td>\n",
              "      <td>0.109669</td>\n",
              "      <td>0.607074</td>\n",
              "      <td>-1.887957</td>\n",
              "      <td>124.513903</td>\n",
              "      <td>-10.228097</td>\n",
              "      <td>35.549971</td>\n",
              "      <td>833.360290</td>\n",
              "      <td>5.692104</td>\n",
              "      <td>-223.579756</td>\n",
              "      <td>29.580270</td>\n",
              "    </tr>\n",
              "    <tr>\n",
              "      <th>CHAS</th>\n",
              "      <td>-0.122109</td>\n",
              "      <td>-0.252925</td>\n",
              "      <td>0.109669</td>\n",
              "      <td>0.064513</td>\n",
              "      <td>0.002684</td>\n",
              "      <td>0.016285</td>\n",
              "      <td>0.618571</td>\n",
              "      <td>-0.053043</td>\n",
              "      <td>-0.016296</td>\n",
              "      <td>-1.523367</td>\n",
              "      <td>-0.066819</td>\n",
              "      <td>1.131325</td>\n",
              "      <td>-0.097816</td>\n",
              "    </tr>\n",
              "    <tr>\n",
              "      <th>NOX</th>\n",
              "      <td>0.419594</td>\n",
              "      <td>-1.396148</td>\n",
              "      <td>0.607074</td>\n",
              "      <td>0.002684</td>\n",
              "      <td>0.013428</td>\n",
              "      <td>-0.024603</td>\n",
              "      <td>2.385927</td>\n",
              "      <td>-0.187696</td>\n",
              "      <td>0.616929</td>\n",
              "      <td>13.046286</td>\n",
              "      <td>0.047397</td>\n",
              "      <td>-4.020570</td>\n",
              "      <td>0.488946</td>\n",
              "    </tr>\n",
              "    <tr>\n",
              "      <th>RM</th>\n",
              "      <td>-1.325038</td>\n",
              "      <td>5.112513</td>\n",
              "      <td>-1.887957</td>\n",
              "      <td>0.016285</td>\n",
              "      <td>-0.024603</td>\n",
              "      <td>0.493671</td>\n",
              "      <td>-4.751929</td>\n",
              "      <td>0.303663</td>\n",
              "      <td>-1.283815</td>\n",
              "      <td>-34.583448</td>\n",
              "      <td>-0.540763</td>\n",
              "      <td>8.215006</td>\n",
              "      <td>-3.079741</td>\n",
              "    </tr>\n",
              "    <tr>\n",
              "      <th>AGE</th>\n",
              "      <td>85.405322</td>\n",
              "      <td>-373.901548</td>\n",
              "      <td>124.513903</td>\n",
              "      <td>0.618571</td>\n",
              "      <td>2.385927</td>\n",
              "      <td>-4.751929</td>\n",
              "      <td>792.358399</td>\n",
              "      <td>-44.329379</td>\n",
              "      <td>111.770846</td>\n",
              "      <td>2402.690122</td>\n",
              "      <td>15.936921</td>\n",
              "      <td>-702.940328</td>\n",
              "      <td>121.077725</td>\n",
              "    </tr>\n",
              "    <tr>\n",
              "      <th>DIS</th>\n",
              "      <td>-6.876722</td>\n",
              "      <td>32.629304</td>\n",
              "      <td>-10.228097</td>\n",
              "      <td>-0.053043</td>\n",
              "      <td>-0.187696</td>\n",
              "      <td>0.303663</td>\n",
              "      <td>-44.329379</td>\n",
              "      <td>4.434015</td>\n",
              "      <td>-9.068252</td>\n",
              "      <td>-189.664592</td>\n",
              "      <td>-1.059775</td>\n",
              "      <td>56.040356</td>\n",
              "      <td>-7.473329</td>\n",
              "    </tr>\n",
              "    <tr>\n",
              "      <th>RAD</th>\n",
              "      <td>46.847761</td>\n",
              "      <td>-63.348695</td>\n",
              "      <td>35.549971</td>\n",
              "      <td>-0.016296</td>\n",
              "      <td>0.616929</td>\n",
              "      <td>-1.283815</td>\n",
              "      <td>111.770846</td>\n",
              "      <td>-9.068252</td>\n",
              "      <td>75.816366</td>\n",
              "      <td>1335.756577</td>\n",
              "      <td>8.760716</td>\n",
              "      <td>-353.276219</td>\n",
              "      <td>30.385442</td>\n",
              "    </tr>\n",
              "    <tr>\n",
              "      <th>TAX</th>\n",
              "      <td>844.821538</td>\n",
              "      <td>-1236.453735</td>\n",
              "      <td>833.360290</td>\n",
              "      <td>-1.523367</td>\n",
              "      <td>13.046286</td>\n",
              "      <td>-34.583448</td>\n",
              "      <td>2402.690122</td>\n",
              "      <td>-189.664592</td>\n",
              "      <td>1335.756577</td>\n",
              "      <td>28404.759488</td>\n",
              "      <td>168.153141</td>\n",
              "      <td>-6797.911215</td>\n",
              "      <td>654.714520</td>\n",
              "    </tr>\n",
              "    <tr>\n",
              "      <th>PTRATIO</th>\n",
              "      <td>5.399331</td>\n",
              "      <td>-19.776571</td>\n",
              "      <td>5.692104</td>\n",
              "      <td>-0.066819</td>\n",
              "      <td>0.047397</td>\n",
              "      <td>-0.540763</td>\n",
              "      <td>15.936921</td>\n",
              "      <td>-1.059775</td>\n",
              "      <td>8.760716</td>\n",
              "      <td>168.153141</td>\n",
              "      <td>4.686989</td>\n",
              "      <td>-35.059527</td>\n",
              "      <td>5.782729</td>\n",
              "    </tr>\n",
              "    <tr>\n",
              "      <th>B</th>\n",
              "      <td>-302.381816</td>\n",
              "      <td>373.721402</td>\n",
              "      <td>-223.579756</td>\n",
              "      <td>1.131325</td>\n",
              "      <td>-4.020570</td>\n",
              "      <td>8.215006</td>\n",
              "      <td>-702.940328</td>\n",
              "      <td>56.040356</td>\n",
              "      <td>-353.276219</td>\n",
              "      <td>-6797.911215</td>\n",
              "      <td>-35.059527</td>\n",
              "      <td>8334.752263</td>\n",
              "      <td>-238.667516</td>\n",
              "    </tr>\n",
              "    <tr>\n",
              "      <th>LSTAT</th>\n",
              "      <td>27.986168</td>\n",
              "      <td>-68.783037</td>\n",
              "      <td>29.580270</td>\n",
              "      <td>-0.097816</td>\n",
              "      <td>0.488946</td>\n",
              "      <td>-3.079741</td>\n",
              "      <td>121.077725</td>\n",
              "      <td>-7.473329</td>\n",
              "      <td>30.385442</td>\n",
              "      <td>654.714520</td>\n",
              "      <td>5.782729</td>\n",
              "      <td>-238.667516</td>\n",
              "      <td>50.994760</td>\n",
              "    </tr>\n",
              "  </tbody>\n",
              "</table>\n",
              "</div>"
            ],
            "text/plain": [
              "               CRIM           ZN  ...            B       LSTAT\n",
              "CRIM      73.986578   -40.215956  ...  -302.381816   27.986168\n",
              "ZN       -40.215956   543.936814  ...   373.721402  -68.783037\n",
              "INDUS     23.992339   -85.412648  ...  -223.579756   29.580270\n",
              "CHAS      -0.122109    -0.252925  ...     1.131325   -0.097816\n",
              "NOX        0.419594    -1.396148  ...    -4.020570    0.488946\n",
              "RM        -1.325038     5.112513  ...     8.215006   -3.079741\n",
              "AGE       85.405322  -373.901548  ...  -702.940328  121.077725\n",
              "DIS       -6.876722    32.629304  ...    56.040356   -7.473329\n",
              "RAD       46.847761   -63.348695  ...  -353.276219   30.385442\n",
              "TAX      844.821538 -1236.453735  ... -6797.911215  654.714520\n",
              "PTRATIO    5.399331   -19.776571  ...   -35.059527    5.782729\n",
              "B       -302.381816   373.721402  ...  8334.752263 -238.667516\n",
              "LSTAT     27.986168   -68.783037  ...  -238.667516   50.994760\n",
              "\n",
              "[13 rows x 13 columns]"
            ]
          },
          "metadata": {
            "tags": []
          },
          "execution_count": 42
        }
      ]
    },
    {
      "cell_type": "code",
      "metadata": {
        "colab": {
          "base_uri": "https://localhost:8080/",
          "height": 452
        },
        "id": "KgIZFbzpTTIZ",
        "outputId": "f15aa626-8edc-4d42-9a78-7b496734d98f"
      },
      "source": [
        "#correlation coefficient\r\n",
        "df.corr()"
      ],
      "execution_count": null,
      "outputs": [
        {
          "output_type": "execute_result",
          "data": {
            "text/html": [
              "<div>\n",
              "<style scoped>\n",
              "    .dataframe tbody tr th:only-of-type {\n",
              "        vertical-align: middle;\n",
              "    }\n",
              "\n",
              "    .dataframe tbody tr th {\n",
              "        vertical-align: top;\n",
              "    }\n",
              "\n",
              "    .dataframe thead th {\n",
              "        text-align: right;\n",
              "    }\n",
              "</style>\n",
              "<table border=\"1\" class=\"dataframe\">\n",
              "  <thead>\n",
              "    <tr style=\"text-align: right;\">\n",
              "      <th></th>\n",
              "      <th>CRIM</th>\n",
              "      <th>ZN</th>\n",
              "      <th>INDUS</th>\n",
              "      <th>CHAS</th>\n",
              "      <th>NOX</th>\n",
              "      <th>RM</th>\n",
              "      <th>AGE</th>\n",
              "      <th>DIS</th>\n",
              "      <th>RAD</th>\n",
              "      <th>TAX</th>\n",
              "      <th>PTRATIO</th>\n",
              "      <th>B</th>\n",
              "      <th>LSTAT</th>\n",
              "    </tr>\n",
              "  </thead>\n",
              "  <tbody>\n",
              "    <tr>\n",
              "      <th>CRIM</th>\n",
              "      <td>1.000000</td>\n",
              "      <td>-0.200469</td>\n",
              "      <td>0.406583</td>\n",
              "      <td>-0.055892</td>\n",
              "      <td>0.420972</td>\n",
              "      <td>-0.219247</td>\n",
              "      <td>0.352734</td>\n",
              "      <td>-0.379670</td>\n",
              "      <td>0.625505</td>\n",
              "      <td>0.582764</td>\n",
              "      <td>0.289946</td>\n",
              "      <td>-0.385064</td>\n",
              "      <td>0.455621</td>\n",
              "    </tr>\n",
              "    <tr>\n",
              "      <th>ZN</th>\n",
              "      <td>-0.200469</td>\n",
              "      <td>1.000000</td>\n",
              "      <td>-0.533828</td>\n",
              "      <td>-0.042697</td>\n",
              "      <td>-0.516604</td>\n",
              "      <td>0.311991</td>\n",
              "      <td>-0.569537</td>\n",
              "      <td>0.664408</td>\n",
              "      <td>-0.311948</td>\n",
              "      <td>-0.314563</td>\n",
              "      <td>-0.391679</td>\n",
              "      <td>0.175520</td>\n",
              "      <td>-0.412995</td>\n",
              "    </tr>\n",
              "    <tr>\n",
              "      <th>INDUS</th>\n",
              "      <td>0.406583</td>\n",
              "      <td>-0.533828</td>\n",
              "      <td>1.000000</td>\n",
              "      <td>0.062938</td>\n",
              "      <td>0.763651</td>\n",
              "      <td>-0.391676</td>\n",
              "      <td>0.644779</td>\n",
              "      <td>-0.708027</td>\n",
              "      <td>0.595129</td>\n",
              "      <td>0.720760</td>\n",
              "      <td>0.383248</td>\n",
              "      <td>-0.356977</td>\n",
              "      <td>0.603800</td>\n",
              "    </tr>\n",
              "    <tr>\n",
              "      <th>CHAS</th>\n",
              "      <td>-0.055892</td>\n",
              "      <td>-0.042697</td>\n",
              "      <td>0.062938</td>\n",
              "      <td>1.000000</td>\n",
              "      <td>0.091203</td>\n",
              "      <td>0.091251</td>\n",
              "      <td>0.086518</td>\n",
              "      <td>-0.099176</td>\n",
              "      <td>-0.007368</td>\n",
              "      <td>-0.035587</td>\n",
              "      <td>-0.121515</td>\n",
              "      <td>0.048788</td>\n",
              "      <td>-0.053929</td>\n",
              "    </tr>\n",
              "    <tr>\n",
              "      <th>NOX</th>\n",
              "      <td>0.420972</td>\n",
              "      <td>-0.516604</td>\n",
              "      <td>0.763651</td>\n",
              "      <td>0.091203</td>\n",
              "      <td>1.000000</td>\n",
              "      <td>-0.302188</td>\n",
              "      <td>0.731470</td>\n",
              "      <td>-0.769230</td>\n",
              "      <td>0.611441</td>\n",
              "      <td>0.668023</td>\n",
              "      <td>0.188933</td>\n",
              "      <td>-0.380051</td>\n",
              "      <td>0.590879</td>\n",
              "    </tr>\n",
              "    <tr>\n",
              "      <th>RM</th>\n",
              "      <td>-0.219247</td>\n",
              "      <td>0.311991</td>\n",
              "      <td>-0.391676</td>\n",
              "      <td>0.091251</td>\n",
              "      <td>-0.302188</td>\n",
              "      <td>1.000000</td>\n",
              "      <td>-0.240265</td>\n",
              "      <td>0.205246</td>\n",
              "      <td>-0.209847</td>\n",
              "      <td>-0.292048</td>\n",
              "      <td>-0.355501</td>\n",
              "      <td>0.128069</td>\n",
              "      <td>-0.613808</td>\n",
              "    </tr>\n",
              "    <tr>\n",
              "      <th>AGE</th>\n",
              "      <td>0.352734</td>\n",
              "      <td>-0.569537</td>\n",
              "      <td>0.644779</td>\n",
              "      <td>0.086518</td>\n",
              "      <td>0.731470</td>\n",
              "      <td>-0.240265</td>\n",
              "      <td>1.000000</td>\n",
              "      <td>-0.747881</td>\n",
              "      <td>0.456022</td>\n",
              "      <td>0.506456</td>\n",
              "      <td>0.261515</td>\n",
              "      <td>-0.273534</td>\n",
              "      <td>0.602339</td>\n",
              "    </tr>\n",
              "    <tr>\n",
              "      <th>DIS</th>\n",
              "      <td>-0.379670</td>\n",
              "      <td>0.664408</td>\n",
              "      <td>-0.708027</td>\n",
              "      <td>-0.099176</td>\n",
              "      <td>-0.769230</td>\n",
              "      <td>0.205246</td>\n",
              "      <td>-0.747881</td>\n",
              "      <td>1.000000</td>\n",
              "      <td>-0.494588</td>\n",
              "      <td>-0.534432</td>\n",
              "      <td>-0.232471</td>\n",
              "      <td>0.291512</td>\n",
              "      <td>-0.496996</td>\n",
              "    </tr>\n",
              "    <tr>\n",
              "      <th>RAD</th>\n",
              "      <td>0.625505</td>\n",
              "      <td>-0.311948</td>\n",
              "      <td>0.595129</td>\n",
              "      <td>-0.007368</td>\n",
              "      <td>0.611441</td>\n",
              "      <td>-0.209847</td>\n",
              "      <td>0.456022</td>\n",
              "      <td>-0.494588</td>\n",
              "      <td>1.000000</td>\n",
              "      <td>0.910228</td>\n",
              "      <td>0.464741</td>\n",
              "      <td>-0.444413</td>\n",
              "      <td>0.488676</td>\n",
              "    </tr>\n",
              "    <tr>\n",
              "      <th>TAX</th>\n",
              "      <td>0.582764</td>\n",
              "      <td>-0.314563</td>\n",
              "      <td>0.720760</td>\n",
              "      <td>-0.035587</td>\n",
              "      <td>0.668023</td>\n",
              "      <td>-0.292048</td>\n",
              "      <td>0.506456</td>\n",
              "      <td>-0.534432</td>\n",
              "      <td>0.910228</td>\n",
              "      <td>1.000000</td>\n",
              "      <td>0.460853</td>\n",
              "      <td>-0.441808</td>\n",
              "      <td>0.543993</td>\n",
              "    </tr>\n",
              "    <tr>\n",
              "      <th>PTRATIO</th>\n",
              "      <td>0.289946</td>\n",
              "      <td>-0.391679</td>\n",
              "      <td>0.383248</td>\n",
              "      <td>-0.121515</td>\n",
              "      <td>0.188933</td>\n",
              "      <td>-0.355501</td>\n",
              "      <td>0.261515</td>\n",
              "      <td>-0.232471</td>\n",
              "      <td>0.464741</td>\n",
              "      <td>0.460853</td>\n",
              "      <td>1.000000</td>\n",
              "      <td>-0.177383</td>\n",
              "      <td>0.374044</td>\n",
              "    </tr>\n",
              "    <tr>\n",
              "      <th>B</th>\n",
              "      <td>-0.385064</td>\n",
              "      <td>0.175520</td>\n",
              "      <td>-0.356977</td>\n",
              "      <td>0.048788</td>\n",
              "      <td>-0.380051</td>\n",
              "      <td>0.128069</td>\n",
              "      <td>-0.273534</td>\n",
              "      <td>0.291512</td>\n",
              "      <td>-0.444413</td>\n",
              "      <td>-0.441808</td>\n",
              "      <td>-0.177383</td>\n",
              "      <td>1.000000</td>\n",
              "      <td>-0.366087</td>\n",
              "    </tr>\n",
              "    <tr>\n",
              "      <th>LSTAT</th>\n",
              "      <td>0.455621</td>\n",
              "      <td>-0.412995</td>\n",
              "      <td>0.603800</td>\n",
              "      <td>-0.053929</td>\n",
              "      <td>0.590879</td>\n",
              "      <td>-0.613808</td>\n",
              "      <td>0.602339</td>\n",
              "      <td>-0.496996</td>\n",
              "      <td>0.488676</td>\n",
              "      <td>0.543993</td>\n",
              "      <td>0.374044</td>\n",
              "      <td>-0.366087</td>\n",
              "      <td>1.000000</td>\n",
              "    </tr>\n",
              "  </tbody>\n",
              "</table>\n",
              "</div>"
            ],
            "text/plain": [
              "             CRIM        ZN     INDUS  ...   PTRATIO         B     LSTAT\n",
              "CRIM     1.000000 -0.200469  0.406583  ...  0.289946 -0.385064  0.455621\n",
              "ZN      -0.200469  1.000000 -0.533828  ... -0.391679  0.175520 -0.412995\n",
              "INDUS    0.406583 -0.533828  1.000000  ...  0.383248 -0.356977  0.603800\n",
              "CHAS    -0.055892 -0.042697  0.062938  ... -0.121515  0.048788 -0.053929\n",
              "NOX      0.420972 -0.516604  0.763651  ...  0.188933 -0.380051  0.590879\n",
              "RM      -0.219247  0.311991 -0.391676  ... -0.355501  0.128069 -0.613808\n",
              "AGE      0.352734 -0.569537  0.644779  ...  0.261515 -0.273534  0.602339\n",
              "DIS     -0.379670  0.664408 -0.708027  ... -0.232471  0.291512 -0.496996\n",
              "RAD      0.625505 -0.311948  0.595129  ...  0.464741 -0.444413  0.488676\n",
              "TAX      0.582764 -0.314563  0.720760  ...  0.460853 -0.441808  0.543993\n",
              "PTRATIO  0.289946 -0.391679  0.383248  ...  1.000000 -0.177383  0.374044\n",
              "B       -0.385064  0.175520 -0.356977  ... -0.177383  1.000000 -0.366087\n",
              "LSTAT    0.455621 -0.412995  0.603800  ...  0.374044 -0.366087  1.000000\n",
              "\n",
              "[13 rows x 13 columns]"
            ]
          },
          "metadata": {
            "tags": []
          },
          "execution_count": 43
        }
      ]
    },
    {
      "cell_type": "code",
      "metadata": {
        "colab": {
          "base_uri": "https://localhost:8080/"
        },
        "id": "Vp_2WUwwTlGG",
        "outputId": "b4cb4e37-c0b4-41a6-dde0-493d674cf877"
      },
      "source": [
        "df.cov()['TAX']['CRIM']/(df.std()['TAX']*df.std()['CRIM'])"
      ],
      "execution_count": null,
      "outputs": [
        {
          "output_type": "execute_result",
          "data": {
            "text/plain": [
              "0.5827643120325847"
            ]
          },
          "metadata": {
            "tags": []
          },
          "execution_count": 44
        }
      ]
    },
    {
      "cell_type": "markdown",
      "metadata": {
        "id": "iP618GjNSggh"
      },
      "source": [
        "Confidence intervals of certain parameters"
      ]
    },
    {
      "cell_type": "code",
      "metadata": {
        "id": "WLovGTOxSqm3"
      },
      "source": [
        "mean_estimators = []\r\n",
        "\r\n",
        "sample_size=500\r\n",
        "number_of_mean_estimators=50\r\n",
        "for x in range(number_of_mean_estimators):\r\n",
        "    sample=df['TAX'].sample(sample_size)\r\n",
        "    mean_estimators.append(sample.values.mean())"
      ],
      "execution_count": null,
      "outputs": []
    },
    {
      "cell_type": "code",
      "metadata": {
        "id": "VkAM2RchZjq5"
      },
      "source": [
        "alpha=0.05\r\n",
        "std=df['TAX'].std()\r\n",
        "\r\n",
        "quantile_order=1-alpha/2\r\n",
        "Quantile = stats.norm.ppf(quantile_order)\r\n",
        "margin = Quantile * (std/sample_size**0.5)"
      ],
      "execution_count": null,
      "outputs": []
    },
    {
      "cell_type": "code",
      "metadata": {
        "colab": {
          "base_uri": "https://localhost:8080/"
        },
        "id": "8gZH1PsfZlbs",
        "outputId": "30870348-25e2-499a-ccf7-21fdb30c90c1"
      },
      "source": [
        "confidence_interval = (mean_estimators[0] - margin, mean_estimators[0] + margin)\r\n",
        "print(mean_estimators[0])\r\n",
        "print(confidence_interval)"
      ],
      "execution_count": null,
      "outputs": [
        {
          "output_type": "stream",
          "text": [
            "409.06\n",
            "(394.2873418854057, 423.8326581145943)\n"
          ],
          "name": "stdout"
        }
      ]
    },
    {
      "cell_type": "code",
      "metadata": {
        "colab": {
          "base_uri": "https://localhost:8080/",
          "height": 554
        },
        "id": "j5HftkZuZl26",
        "outputId": "eab475cd-1aca-4699-ab4e-3c6b2eae619b"
      },
      "source": [
        "CIs=[]\r\n",
        "for i in range(0,number_of_mean_estimators):\r\n",
        "    CIs.append((mean_estimators[i] - margin, mean_estimators[i] + margin))\r\n",
        "\r\n",
        "plt.figure(figsize=(9,9))\r\n",
        "\r\n",
        "plt.errorbar(x=np.arange(0, number_of_mean_estimators),\r\n",
        "             y=mean_estimators[0:number_of_mean_estimators],\r\n",
        "             yerr=[(up-down)/2 for up,down in CIs],\r\n",
        "             fmt='o')\r\n",
        "\r\n",
        "plt.hlines(xmin=0, xmax=number_of_mean_estimators,\r\n",
        "           y=df['TAX'].mean(),\r\n",
        "           linewidth=2.0,\r\n",
        "           color=\"red\")"
      ],
      "execution_count": null,
      "outputs": [
        {
          "output_type": "execute_result",
          "data": {
            "text/plain": [
              "<matplotlib.collections.LineCollection at 0x7f8cfe586cf8>"
            ]
          },
          "metadata": {
            "tags": []
          },
          "execution_count": 48
        },
        {
          "output_type": "display_data",
          "data": {
            "image/png": "[encoded data removed]",
            "text/plain": [
              "<Figure size 648x648 with 1 Axes>"
            ]
          },
          "metadata": {
            "tags": [],
            "needs_background": "light"
          }
        }
      ]
    },
    {
      "cell_type": "markdown",
      "metadata": {
        "id": "RCLXe5XRSq4Q"
      },
      "source": [
        "Estimation of PDF based on histogram and nonparametric hypothesis testing of distributions using Kolomotgorov-Smirnov and chi-squared test"
      ]
    },
    {
      "cell_type": "code",
      "metadata": {
        "colab": {
          "base_uri": "https://localhost:8080/"
        },
        "id": "f0kwWGQGSu3J",
        "outputId": "ac9cfe21-60d0-4cb1-c483-737e0df5bd5a"
      },
      "source": [
        "#chi-square\r\n",
        "stats.chisquare(df[\"TAX\"])"
      ],
      "execution_count": null,
      "outputs": [
        {
          "output_type": "execute_result",
          "data": {
            "text/plain": [
              "Power_divergenceResult(statistic=35137.427830060806, pvalue=0.0)"
            ]
          },
          "metadata": {
            "tags": []
          },
          "execution_count": 49
        }
      ]
    },
    {
      "cell_type": "code",
      "metadata": {
        "colab": {
          "base_uri": "https://localhost:8080/"
        },
        "id": "1izJALmheWyT",
        "outputId": "4deb1826-9326-4c0e-afc6-742fa7508424"
      },
      "source": [
        "#Kolmogorov and Smirnov test\r\n",
        "stats.kstest(df['TAX'], \"norm\")"
      ],
      "execution_count": null,
      "outputs": [
        {
          "output_type": "execute_result",
          "data": {
            "text/plain": [
              "KstestResult(statistic=1.0, pvalue=0.0)"
            ]
          },
          "metadata": {
            "tags": []
          },
          "execution_count": 50
        }
      ]
    },
    {
      "cell_type": "code",
      "metadata": {
        "id": "2BAAvVH8e7gS"
      },
      "source": [
        "#not from normal distribution => p=0"
      ],
      "execution_count": null,
      "outputs": []
    },
    {
      "cell_type": "code",
      "metadata": {
        "colab": {
          "base_uri": "https://localhost:8080/"
        },
        "id": "A_7ODmEdCO05",
        "outputId": "9bae55ed-b097-401e-dea4-6ead9a9f1a98"
      },
      "source": [
        "#Kolmogorov and Smirnov test\r\n",
        "stats.kstest(df['TAX'], \"uniform\")"
      ],
      "execution_count": null,
      "outputs": [
        {
          "output_type": "execute_result",
          "data": {
            "text/plain": [
              "KstestResult(statistic=1.0, pvalue=0.0)"
            ]
          },
          "metadata": {
            "tags": []
          },
          "execution_count": 64
        }
      ]
    },
    {
      "cell_type": "code",
      "metadata": {
        "id": "xEeFxsn5CWoP"
      },
      "source": [
        "#not uniform"
      ],
      "execution_count": null,
      "outputs": []
    },
    {
      "cell_type": "code",
      "metadata": {
        "colab": {
          "base_uri": "https://localhost:8080/"
        },
        "id": "SF9VMCq8Ccxs",
        "outputId": "4a5046b6-84cd-4e64-b831-e8c86aa48745"
      },
      "source": [
        "df['TAX'].min()"
      ],
      "execution_count": null,
      "outputs": [
        {
          "output_type": "execute_result",
          "data": {
            "text/plain": [
              "187.0"
            ]
          },
          "metadata": {
            "tags": []
          },
          "execution_count": 67
        }
      ]
    },
    {
      "cell_type": "code",
      "metadata": {
        "colab": {
          "base_uri": "https://localhost:8080/"
        },
        "id": "jvJTRdOlCmHA",
        "outputId": "08959fe8-a673-4281-e6d7-1daa0ccd71c3"
      },
      "source": [
        "df['TAX'].mean()"
      ],
      "execution_count": null,
      "outputs": [
        {
          "output_type": "execute_result",
          "data": {
            "text/plain": [
              "408.2371541501976"
            ]
          },
          "metadata": {
            "tags": []
          },
          "execution_count": 68
        }
      ]
    },
    {
      "cell_type": "code",
      "metadata": {
        "colab": {
          "base_uri": "https://localhost:8080/"
        },
        "id": "fzetKQHPCph0",
        "outputId": "8bf8f68c-0a15-4d02-ecf4-039a62d59000"
      },
      "source": [
        "df['TAX'].max()"
      ],
      "execution_count": null,
      "outputs": [
        {
          "output_type": "execute_result",
          "data": {
            "text/plain": [
              "711.0"
            ]
          },
          "metadata": {
            "tags": []
          },
          "execution_count": 69
        }
      ]
    },
    {
      "cell_type": "code",
      "metadata": {
        "colab": {
          "base_uri": "https://localhost:8080/"
        },
        "id": "w5E1vu2gCYBu",
        "outputId": "5d5a6b50-b4cc-4685-b59c-7486b61876a5"
      },
      "source": [
        "#Kolmogorov and Smirnov test\r\n",
        "stats.kstest(df['TAX'], \"norm\", args=(187,450))"
      ],
      "execution_count": null,
      "outputs": [
        {
          "output_type": "execute_result",
          "data": {
            "text/plain": [
              "KstestResult(statistic=0.5, pvalue=1.6871111181943794e-117)"
            ]
          },
          "metadata": {
            "tags": []
          },
          "execution_count": 70
        }
      ]
    },
    {
      "cell_type": "code",
      "metadata": {
        "id": "uBdi-e9MCx-6"
      },
      "source": [
        "#first part that I put as args IS normally distributed"
      ],
      "execution_count": null,
      "outputs": []
    },
    {
      "cell_type": "code",
      "metadata": {
        "colab": {
          "base_uri": "https://localhost:8080/",
          "height": 204
        },
        "id": "Yxc-uFyVfMOY",
        "outputId": "273362ab-8742-435c-ac15-2daf5599006d"
      },
      "source": [
        "example='TAX'\r\n",
        "attributes=[example]\r\n",
        "dfs=df[attributes]\r\n",
        "dfs.head()"
      ],
      "execution_count": null,
      "outputs": [
        {
          "output_type": "execute_result",
          "data": {
            "text/html": [
              "<div>\n",
              "<style scoped>\n",
              "    .dataframe tbody tr th:only-of-type {\n",
              "        vertical-align: middle;\n",
              "    }\n",
              "\n",
              "    .dataframe tbody tr th {\n",
              "        vertical-align: top;\n",
              "    }\n",
              "\n",
              "    .dataframe thead th {\n",
              "        text-align: right;\n",
              "    }\n",
              "</style>\n",
              "<table border=\"1\" class=\"dataframe\">\n",
              "  <thead>\n",
              "    <tr style=\"text-align: right;\">\n",
              "      <th></th>\n",
              "      <th>TAX</th>\n",
              "    </tr>\n",
              "  </thead>\n",
              "  <tbody>\n",
              "    <tr>\n",
              "      <th>0</th>\n",
              "      <td>296.0</td>\n",
              "    </tr>\n",
              "    <tr>\n",
              "      <th>1</th>\n",
              "      <td>242.0</td>\n",
              "    </tr>\n",
              "    <tr>\n",
              "      <th>2</th>\n",
              "      <td>242.0</td>\n",
              "    </tr>\n",
              "    <tr>\n",
              "      <th>3</th>\n",
              "      <td>222.0</td>\n",
              "    </tr>\n",
              "    <tr>\n",
              "      <th>4</th>\n",
              "      <td>222.0</td>\n",
              "    </tr>\n",
              "  </tbody>\n",
              "</table>\n",
              "</div>"
            ],
            "text/plain": [
              "     TAX\n",
              "0  296.0\n",
              "1  242.0\n",
              "2  242.0\n",
              "3  222.0\n",
              "4  222.0"
            ]
          },
          "metadata": {
            "tags": []
          },
          "execution_count": 52
        }
      ]
    },
    {
      "cell_type": "code",
      "metadata": {
        "colab": {
          "base_uri": "https://localhost:8080/",
          "height": 281
        },
        "id": "wD42CEC3fzZE",
        "outputId": "a2798c60-56a7-43d8-8cf5-0bf4dae5e066"
      },
      "source": [
        "hist=dfs.hist(density=True, bins=40)"
      ],
      "execution_count": null,
      "outputs": [
        {
          "output_type": "display_data",
          "data": {
            "image/png": "[encoded data removed]",
            "text/plain": [
              "<Figure size 432x288 with 1 Axes>"
            ]
          },
          "metadata": {
            "tags": [],
            "needs_background": "light"
          }
        }
      ]
    },
    {
      "cell_type": "code",
      "metadata": {
        "colab": {
          "base_uri": "https://localhost:8080/"
        },
        "id": "8W1XxZn5gM0V",
        "outputId": "8b9bf628-606a-4455-e0d4-4ab5b98afa5b"
      },
      "source": [
        "sample_size=100\r\n",
        "\r\n",
        "stats.kstest(dfs.sample(sample_size).dropna().values.T, cdf='norm',args=(dfs.dropna().values.mean(), dfs.dropna().values.std()))"
      ],
      "execution_count": null,
      "outputs": [
        {
          "output_type": "execute_result",
          "data": {
            "text/plain": [
              "KstestResult(statistic=0.9639268799750443, pvalue=0.07214624004991133)"
            ]
          },
          "metadata": {
            "tags": []
          },
          "execution_count": 54
        }
      ]
    },
    {
      "cell_type": "code",
      "metadata": {
        "id": "qmdHJT3VgcHw"
      },
      "source": [
        "#not from normal distribution; p<0.1"
      ],
      "execution_count": null,
      "outputs": []
    },
    {
      "cell_type": "code",
      "metadata": {
        "colab": {
          "base_uri": "https://localhost:8080/",
          "height": 529
        },
        "id": "hwo0sA4zgd4d",
        "outputId": "c998247d-7f8a-4e47-b8af-84f6cf98131c"
      },
      "source": [
        "# Let's test the distribution of the ME estimators: #this is Central Limit Theorem which says that ME estimators should be normally distributed\r\n",
        "ME_estimators = []       \r\n",
        "\r\n",
        "sample_size=500\r\n",
        "number_of_estimator_samples=100   \r\n",
        "for x in range(number_of_estimator_samples):\r\n",
        "    \r\n",
        "    sample=dfs.sample(sample_size)\r\n",
        "    ME_estimators.append( sample.dropna().values.mean() )\r\n",
        "    \r\n",
        "#estimated PDFis aspproximately normal\r\n",
        "pd.DataFrame(ME_estimators).plot(kind=\"density\")   \r\n",
        "\r\n",
        "# histogram of the means:\r\n",
        "hist = pd.DataFrame(ME_estimators).hist(density=True,bins=25) "
      ],
      "execution_count": null,
      "outputs": [
        {
          "output_type": "display_data",
          "data": {
            "image/png": "[encoded data removed]",
            "text/plain": [
              "<Figure size 432x288 with 1 Axes>"
            ]
          },
          "metadata": {
            "tags": [],
            "needs_background": "light"
          }
        },
        {
          "output_type": "display_data",
          "data": {
            "image/png": "[encoded data removed]",
            "text/plain": [
              "<Figure size 432x288 with 1 Axes>"
            ]
          },
          "metadata": {
            "tags": [],
            "needs_background": "light"
          }
        }
      ]
    },
    {
      "cell_type": "code",
      "metadata": {
        "colab": {
          "base_uri": "https://localhost:8080/"
        },
        "id": "CgHfWUcniJ7Z",
        "outputId": "c1db2eb4-1c68-4c39-919f-5b7d30b937fd"
      },
      "source": [
        "stats.kstest(ME_estimators, cdf='norm',args=(dfs.dropna().values.mean(), dfs.dropna().values.std()/sample_size**0.5))\r\n",
        "#mathematical estimators are from normal distribution"
      ],
      "execution_count": null,
      "outputs": [
        {
          "output_type": "execute_result",
          "data": {
            "text/plain": [
              "KstestResult(statistic=0.4118861097973433, pvalue=7.301873130387911e-16)"
            ]
          },
          "metadata": {
            "tags": []
          },
          "execution_count": 57
        }
      ]
    },
    {
      "cell_type": "markdown",
      "metadata": {
        "id": "qWWCocsmSvBP"
      },
      "source": [
        "Parametric hypothesis testing"
      ]
    },
    {
      "cell_type": "code",
      "metadata": {
        "id": "Ajr0ToH5lTaB"
      },
      "source": [
        "#Is ME in the confidence interval?\r\n",
        "\r\n",
        "mean_estimators = []\r\n",
        "\r\n",
        "sample_size=500\r\n",
        "number_of_mean_estimators=50\r\n",
        "for x in range(number_of_mean_estimators):\r\n",
        "    sample=df['TAX'].sample(sample_size)\r\n",
        "    mean_estimators.append(sample.values.mean())"
      ],
      "execution_count": null,
      "outputs": []
    },
    {
      "cell_type": "code",
      "metadata": {
        "id": "l41UrdkalbCe"
      },
      "source": [
        "alpha=0.05\r\n",
        "std=df['TAX'].std()\r\n",
        "\r\n",
        "quantile_order=1-alpha/2\r\n",
        "Quantile = stats.norm.ppf(quantile_order)\r\n",
        "margin = Quantile * (std/sample_size**0.5)"
      ],
      "execution_count": null,
      "outputs": []
    },
    {
      "cell_type": "code",
      "metadata": {
        "colab": {
          "base_uri": "https://localhost:8080/"
        },
        "id": "jWU3-M6EleXk",
        "outputId": "08bb829c-1435-441b-ec59-e1e732c14540"
      },
      "source": [
        "confidence_interval = (mean_estimators[0] - margin, mean_estimators[0] + margin)\r\n",
        "print(mean_estimators[0])\r\n",
        "print(confidence_interval)"
      ],
      "execution_count": null,
      "outputs": [
        {
          "output_type": "stream",
          "text": [
            "408.312\n",
            "(393.5393418854057, 423.08465811459433)\n"
          ],
          "name": "stdout"
        }
      ]
    },
    {
      "cell_type": "code",
      "metadata": {
        "colab": {
          "base_uri": "https://localhost:8080/"
        },
        "id": "ZXQK5xtVSx1B",
        "outputId": "42a5fb52-8286-4eb7-9127-a9343b44dd23"
      },
      "source": [
        "p_value=2*(1-stats.t.cdf(Quantile,df=sample_size-1))\r\n",
        "    \r\n",
        "p_value"
      ],
      "execution_count": null,
      "outputs": [
        {
          "output_type": "execute_result",
          "data": {
            "text/plain": [
              "0.050556125321213896"
            ]
          },
          "metadata": {
            "tags": []
          },
          "execution_count": 105
        }
      ]
    },
    {
      "cell_type": "code",
      "metadata": {
        "id": "ITNkxP9wdbBH"
      },
      "source": [
        "#We will reject H0, since p_value<0.1 what is H0? What is the hypothesis? That ME is NOT within the CI, so we reject it and we see that ME is within CI:\r\n",
        "#CI = (393.56934188540566, 423.1146581145943)\r\n",
        "#ME = 408.342\r\n",
        "#with 1-alpha reliability => 1-0.05=0.95 so we are 95% sure that this is true"
      ],
      "execution_count": null,
      "outputs": []
    },
    {
      "cell_type": "markdown",
      "metadata": {
        "id": "pCmoIJZQho_v"
      },
      "source": [
        "alpha-how much error we allow\r\n"
      ]
    },
    {
      "cell_type": "code",
      "metadata": {
        "id": "FMy_kjwBmHDk"
      },
      "source": [
        ""
      ],
      "execution_count": null,
      "outputs": []
    }
  ]
}