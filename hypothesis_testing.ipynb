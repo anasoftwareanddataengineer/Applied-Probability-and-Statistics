{
 "cells": [
  {
   "cell_type": "markdown",
   "metadata": {},
   "source": [
    "# Parametric hypothesis testing\n",
    "## by the construction of appropriate confidence intervals "
   ]
  },
  {
   "cell_type": "code",
   "execution_count": 1,
   "metadata": {},
   "outputs": [
    {
     "data": {
      "text/plain": [
       "5.457812799847824"
      ]
     },
     "execution_count": 1,
     "metadata": {},
     "output_type": "execute_result"
    }
   ],
   "source": [
    "from scipy import stats\n",
    "import matplotlib.pyplot as plt\n",
    "import numpy as np\n",
    "\n",
    "m=5\n",
    "sigma=3\n",
    "\n",
    "number_of_samples = 50 # for calculation of only one mean\n",
    "\n",
    "xs= stats.norm.rvs(size=number_of_samples,loc=m,scale=sigma) # samples from normal distribution\n",
    "average_value = np.mean(xs) \n",
    "average_value"
   ]
  },
  {
   "cell_type": "code",
   "execution_count": 2,
   "metadata": {},
   "outputs": [
    {
     "data": {
      "text/plain": [
       "(5.457812799847824, (4.6862338079063734, 6.229391791789275))"
      ]
     },
     "execution_count": 2,
     "metadata": {},
     "output_type": "execute_result"
    }
   ],
   "source": [
    "# We will test the hypothesis that E(X)=5 (H0), while H1: E(X) is different than 5\n",
    "# Hence, we find the two-sided CI (assume that we don't know the variance):\n",
    "\n",
    "# standard deviation estiamtor:\n",
    "s = np.std(xs,ddof=1) # samples of the estimates of std \n",
    "\n",
    "alpha=0.05   # level of confidence is 1-alpha=0.95\n",
    "\n",
    "CI=stats.t.interval(1-alpha,df=number_of_samples-1,loc=average_value, scale=s/number_of_samples**0.5)\n",
    "average_value, CI"
   ]
  },
  {
   "cell_type": "markdown",
   "metadata": {
    "collapsed": true
   },
   "source": [
    "If the point 5 belongs to the CI we cannot reject $H_0$ with the confidence level $\\alpha$"
   ]
  },
  {
   "cell_type": "code",
   "execution_count": 3,
   "metadata": {},
   "outputs": [
    {
     "data": {
      "text/plain": [
       "(5.038385058014886, 5.877240541680762)"
      ]
     },
     "execution_count": 3,
     "metadata": {},
     "output_type": "execute_result"
    }
   ],
   "source": [
    "# by changing alpha dwe get the p-value (alpha for which a bound of the interval is equal 5):\n",
    "\n",
    "alpha=0.28  # nivo poverenja je 1-alpha\n",
    "\n",
    "CI=stats.t.interval(1-alpha,df=number_of_samples-1,loc=average_value, scale=s/number_of_samples**0.5)\n",
    "CI"
   ]
  },
  {
   "cell_type": "code",
   "execution_count": 4,
   "metadata": {},
   "outputs": [
    {
     "data": {
      "text/plain": [
       "0.23885786400041997"
      ]
     },
     "execution_count": 4,
     "metadata": {},
     "output_type": "execute_result"
    }
   ],
   "source": [
    "# we can obtain the p-value directly (inverse of the calculation of the CI bounds):\n",
    "\n",
    "margin=np.abs(average_value-5)\n",
    "Quantile=margin*(number_of_samples**0.5/s)\n",
    "\n",
    "p_value=2*(1-stats.t.cdf(Quantile,df=number_of_samples-1))\n",
    "    \n",
    "p_value"
   ]
  },
  {
   "cell_type": "code",
   "execution_count": 5,
   "metadata": {
    "collapsed": true
   },
   "outputs": [],
   "source": [
    "#if the p-value is relatively high (e.g. larger than 0.1) - we are quite sure that we will not reject H0"
   ]
  },
  {
   "cell_type": "markdown",
   "metadata": {},
   "source": [
    "### Exercise 1: in the same way find the p-value of the variance tessting  (H0: Var=9, H1: Var different than 9)"
   ]
  },
  {
   "cell_type": "markdown",
   "metadata": {},
   "source": [
    "### Exercise 2: Read temperature data from temeprature.csv, choose a city, estimate ME, and find the p-value of the appropriate hypothesis tests "
   ]
  },
  {
   "cell_type": "markdown",
   "metadata": {},
   "source": [
    "# Nonparametric hypothesis tests about the RV distribution "
   ]
  },
  {
   "cell_type": "markdown",
   "metadata": {},
   "source": [
    "## Chi-square test"
   ]
  },
  {
   "cell_type": "code",
   "execution_count": 6,
   "metadata": {},
   "outputs": [
    {
     "data": {
      "text/plain": [
       "Power_divergenceResult(statistic=2.0, pvalue=0.8491450360846096)"
      ]
     },
     "execution_count": 6,
     "metadata": {},
     "output_type": "execute_result"
    }
   ],
   "source": [
    "# scipy.stats.chisquare(f_obs, f_exp=None, ddof=0)\n",
    "# f_obs are the observerd frequencies on each interval, f_exp are the expected frequencies, \n",
    "# ddof is the number of parameters that we had to estimate from the given sample\n",
    "\n",
    "stats.chisquare([16, 18, 16, 14, 12, 12])  # if we don't specify f_exp then uniform is assumed"
   ]
  },
  {
   "cell_type": "code",
   "execution_count": 7,
   "metadata": {
    "collapsed": true
   },
   "outputs": [],
   "source": [
    "#  hence, for this case, we will not reject the hypotheses H0 (data is from uniform distribution) "
   ]
  },
  {
   "cell_type": "markdown",
   "metadata": {},
   "source": [
    "## Kolmogorov and Smirnov test"
   ]
  },
  {
   "cell_type": "code",
   "execution_count": 8,
   "metadata": {},
   "outputs": [
    {
     "data": {
      "text/plain": [
       "KstestResult(statistic=0.4443560271592436, pvalue=0.038850142705171065)"
      ]
     },
     "execution_count": 8,
     "metadata": {},
     "output_type": "execute_result"
    }
   ],
   "source": [
    "from scipy import stats\n",
    "import numpy as np\n",
    "\n",
    "# let's test whether the points obtained using np.linspace() are samples from Normal distribution: \n",
    "x = np.linspace(-15, 15, 9)\n",
    "stats.kstest(x, 'norm')  # The function ktest gives the value of the appropriate statistic (lambda from the lectures)\n",
    "                         # as well as its p-value "
   ]
  },
  {
   "cell_type": "code",
   "execution_count": 9,
   "metadata": {
    "collapsed": true
   },
   "outputs": [],
   "source": [
    "# hence, we can reject the hypothesis that F=F_0 with the confidence level 0.04\n",
    "# - 96% we are sure in the alternative"
   ]
  },
  {
   "cell_type": "code",
   "execution_count": 10,
   "metadata": {},
   "outputs": [
    {
     "data": {
      "text/plain": [
       "KstestResult(statistic=0.09993019742782255, pvalue=0.25390245968088876)"
      ]
     },
     "execution_count": 10,
     "metadata": {},
     "output_type": "execute_result"
    }
   ],
   "source": [
    "# let's test if the samples from normal distribution are truly from normal:\n",
    "\n",
    "stats.kstest(stats.norm.rvs(size=100), 'norm')"
   ]
  },
  {
   "cell_type": "code",
   "execution_count": 11,
   "metadata": {
    "collapsed": true
   },
   "outputs": [],
   "source": [
    "# high p-vrednost - we cannot reject H0: F=F_0 "
   ]
  },
  {
   "cell_type": "code",
   "execution_count": 12,
   "metadata": {},
   "outputs": [
    {
     "data": {
      "text/html": [
       "<div>\n",
       "<style>\n",
       "    .dataframe thead tr:only-child th {\n",
       "        text-align: right;\n",
       "    }\n",
       "\n",
       "    .dataframe thead th {\n",
       "        text-align: left;\n",
       "    }\n",
       "\n",
       "    .dataframe tbody tr th {\n",
       "        vertical-align: top;\n",
       "    }\n",
       "</style>\n",
       "<table border=\"1\" class=\"dataframe\">\n",
       "  <thead>\n",
       "    <tr style=\"text-align: right;\">\n",
       "      <th></th>\n",
       "      <th>Detroit</th>\n",
       "    </tr>\n",
       "  </thead>\n",
       "  <tbody>\n",
       "    <tr>\n",
       "      <th>0</th>\n",
       "      <td>NaN</td>\n",
       "    </tr>\n",
       "    <tr>\n",
       "      <th>1</th>\n",
       "      <td>284.030000</td>\n",
       "    </tr>\n",
       "    <tr>\n",
       "      <th>2</th>\n",
       "      <td>284.069789</td>\n",
       "    </tr>\n",
       "    <tr>\n",
       "      <th>3</th>\n",
       "      <td>284.173965</td>\n",
       "    </tr>\n",
       "    <tr>\n",
       "      <th>4</th>\n",
       "      <td>284.278140</td>\n",
       "    </tr>\n",
       "  </tbody>\n",
       "</table>\n",
       "</div>"
      ],
      "text/plain": [
       "      Detroit\n",
       "0         NaN\n",
       "1  284.030000\n",
       "2  284.069789\n",
       "3  284.173965\n",
       "4  284.278140"
      ]
     },
     "execution_count": 12,
     "metadata": {},
     "output_type": "execute_result"
    }
   ],
   "source": [
    "import pandas as pd\n",
    "import matplotlib.pyplot as plt\n",
    "import numpy as np\n",
    "\n",
    "grad='Detroit'\n",
    "atributi = [grad]\n",
    "df = pd.read_csv(\"temperature.csv\",usecols=atributi)\n",
    "df.head()"
   ]
  },
  {
   "cell_type": "code",
   "execution_count": 13,
   "metadata": {},
   "outputs": [
    {
     "data": {
      "image/png": "[encoded data removed]",
      "text/plain": [
       "<matplotlib.figure.Figure at 0x221ac7b1748>"
      ]
     },
     "metadata": {},
     "output_type": "display_data"
    }
   ],
   "source": [
    "#histogram\n",
    "hist = df.hist(normed=True,bins=100) \n",
    "plt.show()"
   ]
  },
  {
   "cell_type": "code",
   "execution_count": 14,
   "metadata": {},
   "outputs": [
    {
     "data": {
      "text/plain": [
       "KstestResult(statistic=0.9874683702430063, pvalue=0.025063259513987468)"
      ]
     },
     "execution_count": 14,
     "metadata": {},
     "output_type": "execute_result"
    }
   ],
   "source": [
    "# we will test if a sample of the temperatures is from normal distirbution:\n",
    "\n",
    "sample_size=100\n",
    "\n",
    "stats.kstest(df.sample(sample_size).dropna().values.T, cdf='norm',args=(df.dropna().values.mean(), df.dropna().values.std()))  \n",
    "# u args we put estimates of the ME and STD "
   ]
  },
  {
   "cell_type": "code",
   "execution_count": 15,
   "metadata": {
    "collapsed": true
   },
   "outputs": [],
   "source": [
    "# p-value is low - we reject H0 with high confidence"
   ]
  },
  {
   "cell_type": "code",
   "execution_count": 16,
   "metadata": {},
   "outputs": [
    {
     "data": {
      "image/png": "[encoded data removed]",
      "text/plain": [
       "<matplotlib.figure.Figure at 0x221ae679240>"
      ]
     },
     "metadata": {},
     "output_type": "display_data"
    },
    {
     "data": {
      "image/png": "[encoded data removed]",
      "text/plain": [
       "<matplotlib.figure.Figure at 0x221ae679940>"
      ]
     },
     "metadata": {},
     "output_type": "display_data"
    }
   ],
   "source": [
    "# Let's test the distribution of the ME estimators:\n",
    "\n",
    "ME_estimators = []       \n",
    "\n",
    "sample_size=500\n",
    "number_of_estimator_samples=100   \n",
    "for x in range(number_of_estimator_samples):\n",
    "    \n",
    "    sample=df.sample(sample_size)\n",
    "    ME_estimators.append( sample.dropna().values.mean() )\n",
    "    \n",
    "    # or:\n",
    "    #sample = np.random.choice(a= df.values, size=sample_size)\n",
    "    #ME_estimators.append( sample.mean() )\n",
    "    \n",
    "# lets plot the estimated PDF  (using histogram) - we can guess that it is aspproximately normal!  \n",
    "pd.DataFrame(ME_estimators).plot(kind=\"density\")   \n",
    "\n",
    "# histogram of the means:\n",
    "hist = pd.DataFrame(ME_estimators).hist(normed=True,bins=30) \n",
    "plt.show()"
   ]
  },
  {
   "cell_type": "code",
   "execution_count": 17,
   "metadata": {},
   "outputs": [
    {
     "data": {
      "text/plain": [
       "KstestResult(statistic=0.06237779633926914, pvalue=0.8313215219506321)"
      ]
     },
     "execution_count": 17,
     "metadata": {},
     "output_type": "execute_result"
    }
   ],
   "source": [
    "# but lets test the H0 that these estimators have normal distribution:\n",
    "\n",
    "stats.kstest(ME_estimators, cdf='norm',args=(df.dropna().values.mean(), df.dropna().values.std()/sample_size**0.5))"
   ]
  },
  {
   "cell_type": "code",
   "execution_count": 18,
   "metadata": {
    "collapsed": true
   },
   "outputs": [],
   "source": [
    "# Do we reject H0 or not (based on the p-value)?"
   ]
  }
 ],
 "metadata": {
  "kernelspec": {
   "display_name": "Python 3",
   "language": "python",
   "name": "python3"
  },
  "language_info": {
   "codemirror_mode": {
    "name": "ipython",
    "version": 3
   },
   "file_extension": ".py",
   "mimetype": "text/x-python",
   "name": "python",
   "nbconvert_exporter": "python",
   "pygments_lexer": "ipython3",
   "version": "3.6.3"
  }
 },
 "nbformat": 4,
 "nbformat_minor": 2
}
